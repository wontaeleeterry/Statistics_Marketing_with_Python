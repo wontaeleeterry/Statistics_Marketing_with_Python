{
 "cells": [
  {
   "cell_type": "code",
   "execution_count": null,
   "metadata": {},
   "outputs": [
    {
     "data": {
      "application/vnd.microsoft.datawrangler.viewer.v0+json": {
       "columns": [
        {
         "name": "index",
         "rawType": "int64",
         "type": "integer"
        },
        {
         "name": "index",
         "rawType": "int64",
         "type": "integer"
        },
        {
         "name": "rank",
         "rawType": "int64",
         "type": "integer"
        },
        {
         "name": "cost",
         "rawType": "object",
         "type": "string"
        },
        {
         "name": "brand",
         "rawType": "object",
         "type": "string"
        },
        {
         "name": "fuel",
         "rawType": "object",
         "type": "string"
        },
        {
         "name": "ABS",
         "rawType": "object",
         "type": "string"
        },
        {
         "name": "safety",
         "rawType": "object",
         "type": "string"
        }
       ],
       "conversionMethod": "pd.DataFrame",
       "ref": "2d0c00b2-2d2e-4e92-8f0f-cc8a8e6a6953",
       "rows": [
        [
         "0",
         "1",
         "4",
         "20m",
         "hyundai",
         "gas",
         "no",
         "4_stars"
        ],
        [
         "1",
         "2",
         "3",
         "22m",
         "hyundai",
         "diesel",
         "yes",
         "4_stars"
        ],
        [
         "2",
         "3",
         "16",
         "24m",
         "daewoo",
         "gas",
         "yes",
         "5_stars"
        ],
        [
         "3",
         "4",
         "15",
         "24m",
         "kia",
         "diesel",
         "no",
         "5_stars"
        ],
        [
         "4",
         "5",
         "5",
         "22m",
         "hyundai",
         "gas",
         "no",
         "5_stars"
        ]
       ],
       "shape": {
        "columns": 7,
        "rows": 5
       }
      },
      "text/html": [
       "<div>\n",
       "<style scoped>\n",
       "    .dataframe tbody tr th:only-of-type {\n",
       "        vertical-align: middle;\n",
       "    }\n",
       "\n",
       "    .dataframe tbody tr th {\n",
       "        vertical-align: top;\n",
       "    }\n",
       "\n",
       "    .dataframe thead th {\n",
       "        text-align: right;\n",
       "    }\n",
       "</style>\n",
       "<table border=\"1\" class=\"dataframe\">\n",
       "  <thead>\n",
       "    <tr style=\"text-align: right;\">\n",
       "      <th></th>\n",
       "      <th>index</th>\n",
       "      <th>rank</th>\n",
       "      <th>cost</th>\n",
       "      <th>brand</th>\n",
       "      <th>fuel</th>\n",
       "      <th>ABS</th>\n",
       "      <th>safety</th>\n",
       "    </tr>\n",
       "  </thead>\n",
       "  <tbody>\n",
       "    <tr>\n",
       "      <th>0</th>\n",
       "      <td>1</td>\n",
       "      <td>4</td>\n",
       "      <td>20m</td>\n",
       "      <td>hyundai</td>\n",
       "      <td>gas</td>\n",
       "      <td>no</td>\n",
       "      <td>4_stars</td>\n",
       "    </tr>\n",
       "    <tr>\n",
       "      <th>1</th>\n",
       "      <td>2</td>\n",
       "      <td>3</td>\n",
       "      <td>22m</td>\n",
       "      <td>hyundai</td>\n",
       "      <td>diesel</td>\n",
       "      <td>yes</td>\n",
       "      <td>4_stars</td>\n",
       "    </tr>\n",
       "    <tr>\n",
       "      <th>2</th>\n",
       "      <td>3</td>\n",
       "      <td>16</td>\n",
       "      <td>24m</td>\n",
       "      <td>daewoo</td>\n",
       "      <td>gas</td>\n",
       "      <td>yes</td>\n",
       "      <td>5_stars</td>\n",
       "    </tr>\n",
       "    <tr>\n",
       "      <th>3</th>\n",
       "      <td>4</td>\n",
       "      <td>15</td>\n",
       "      <td>24m</td>\n",
       "      <td>kia</td>\n",
       "      <td>diesel</td>\n",
       "      <td>no</td>\n",
       "      <td>5_stars</td>\n",
       "    </tr>\n",
       "    <tr>\n",
       "      <th>4</th>\n",
       "      <td>5</td>\n",
       "      <td>5</td>\n",
       "      <td>22m</td>\n",
       "      <td>hyundai</td>\n",
       "      <td>gas</td>\n",
       "      <td>no</td>\n",
       "      <td>5_stars</td>\n",
       "    </tr>\n",
       "  </tbody>\n",
       "</table>\n",
       "</div>"
      ],
      "text/plain": [
       "   index  rank cost    brand    fuel  ABS   safety\n",
       "0      1     4  20m  hyundai     gas   no  4_stars\n",
       "1      2     3  22m  hyundai  diesel  yes  4_stars\n",
       "2      3    16  24m   daewoo     gas  yes  5_stars\n",
       "3      4    15  24m      kia  diesel   no  5_stars\n",
       "4      5     5  22m  hyundai     gas   no  5_stars"
      ]
     },
     "execution_count": 7,
     "metadata": {},
     "output_type": "execute_result"
    }
   ],
   "source": [
    "import pandas as pd\n",
    "\n",
    "data = pd.read_csv('vehicle.csv')\n",
    "data.head(5)"
   ]
  },
  {
   "cell_type": "code",
   "execution_count": 8,
   "metadata": {},
   "outputs": [
    {
     "data": {
      "application/vnd.microsoft.datawrangler.viewer.v0+json": {
       "columns": [
        {
         "name": "index",
         "rawType": "int64",
         "type": "integer"
        },
        {
         "name": "index",
         "rawType": "int64",
         "type": "integer"
        },
        {
         "name": "rank",
         "rawType": "int64",
         "type": "integer"
        },
        {
         "name": "cost_20m",
         "rawType": "bool",
         "type": "boolean"
        },
        {
         "name": "cost_22m",
         "rawType": "bool",
         "type": "boolean"
        },
        {
         "name": "cost_24m",
         "rawType": "bool",
         "type": "boolean"
        },
        {
         "name": "brand_daewoo",
         "rawType": "bool",
         "type": "boolean"
        },
        {
         "name": "brand_hyundai",
         "rawType": "bool",
         "type": "boolean"
        },
        {
         "name": "brand_kia",
         "rawType": "bool",
         "type": "boolean"
        },
        {
         "name": "fuel_diesel",
         "rawType": "bool",
         "type": "boolean"
        },
        {
         "name": "fuel_gas",
         "rawType": "bool",
         "type": "boolean"
        },
        {
         "name": "ABS_no",
         "rawType": "bool",
         "type": "boolean"
        },
        {
         "name": "ABS_yes",
         "rawType": "bool",
         "type": "boolean"
        },
        {
         "name": "safety_4_stars",
         "rawType": "bool",
         "type": "boolean"
        },
        {
         "name": "safety_5_stars",
         "rawType": "bool",
         "type": "boolean"
        }
       ],
       "conversionMethod": "pd.DataFrame",
       "ref": "b79f0f04-9d0f-47e1-be87-7a7745ce306f",
       "rows": [
        [
         "0",
         "1",
         "4",
         "True",
         "False",
         "False",
         "False",
         "True",
         "False",
         "False",
         "True",
         "True",
         "False",
         "True",
         "False"
        ],
        [
         "1",
         "2",
         "3",
         "False",
         "True",
         "False",
         "False",
         "True",
         "False",
         "True",
         "False",
         "False",
         "True",
         "True",
         "False"
        ],
        [
         "2",
         "3",
         "16",
         "False",
         "False",
         "True",
         "True",
         "False",
         "False",
         "False",
         "True",
         "False",
         "True",
         "False",
         "True"
        ],
        [
         "3",
         "4",
         "15",
         "False",
         "False",
         "True",
         "False",
         "False",
         "True",
         "True",
         "False",
         "True",
         "False",
         "False",
         "True"
        ],
        [
         "4",
         "5",
         "5",
         "False",
         "True",
         "False",
         "False",
         "True",
         "False",
         "False",
         "True",
         "True",
         "False",
         "False",
         "True"
        ]
       ],
       "shape": {
        "columns": 14,
        "rows": 5
       }
      },
      "text/html": [
       "<div>\n",
       "<style scoped>\n",
       "    .dataframe tbody tr th:only-of-type {\n",
       "        vertical-align: middle;\n",
       "    }\n",
       "\n",
       "    .dataframe tbody tr th {\n",
       "        vertical-align: top;\n",
       "    }\n",
       "\n",
       "    .dataframe thead th {\n",
       "        text-align: right;\n",
       "    }\n",
       "</style>\n",
       "<table border=\"1\" class=\"dataframe\">\n",
       "  <thead>\n",
       "    <tr style=\"text-align: right;\">\n",
       "      <th></th>\n",
       "      <th>index</th>\n",
       "      <th>rank</th>\n",
       "      <th>cost_20m</th>\n",
       "      <th>cost_22m</th>\n",
       "      <th>cost_24m</th>\n",
       "      <th>brand_daewoo</th>\n",
       "      <th>brand_hyundai</th>\n",
       "      <th>brand_kia</th>\n",
       "      <th>fuel_diesel</th>\n",
       "      <th>fuel_gas</th>\n",
       "      <th>ABS_no</th>\n",
       "      <th>ABS_yes</th>\n",
       "      <th>safety_4_stars</th>\n",
       "      <th>safety_5_stars</th>\n",
       "    </tr>\n",
       "  </thead>\n",
       "  <tbody>\n",
       "    <tr>\n",
       "      <th>0</th>\n",
       "      <td>1</td>\n",
       "      <td>4</td>\n",
       "      <td>True</td>\n",
       "      <td>False</td>\n",
       "      <td>False</td>\n",
       "      <td>False</td>\n",
       "      <td>True</td>\n",
       "      <td>False</td>\n",
       "      <td>False</td>\n",
       "      <td>True</td>\n",
       "      <td>True</td>\n",
       "      <td>False</td>\n",
       "      <td>True</td>\n",
       "      <td>False</td>\n",
       "    </tr>\n",
       "    <tr>\n",
       "      <th>1</th>\n",
       "      <td>2</td>\n",
       "      <td>3</td>\n",
       "      <td>False</td>\n",
       "      <td>True</td>\n",
       "      <td>False</td>\n",
       "      <td>False</td>\n",
       "      <td>True</td>\n",
       "      <td>False</td>\n",
       "      <td>True</td>\n",
       "      <td>False</td>\n",
       "      <td>False</td>\n",
       "      <td>True</td>\n",
       "      <td>True</td>\n",
       "      <td>False</td>\n",
       "    </tr>\n",
       "    <tr>\n",
       "      <th>2</th>\n",
       "      <td>3</td>\n",
       "      <td>16</td>\n",
       "      <td>False</td>\n",
       "      <td>False</td>\n",
       "      <td>True</td>\n",
       "      <td>True</td>\n",
       "      <td>False</td>\n",
       "      <td>False</td>\n",
       "      <td>False</td>\n",
       "      <td>True</td>\n",
       "      <td>False</td>\n",
       "      <td>True</td>\n",
       "      <td>False</td>\n",
       "      <td>True</td>\n",
       "    </tr>\n",
       "    <tr>\n",
       "      <th>3</th>\n",
       "      <td>4</td>\n",
       "      <td>15</td>\n",
       "      <td>False</td>\n",
       "      <td>False</td>\n",
       "      <td>True</td>\n",
       "      <td>False</td>\n",
       "      <td>False</td>\n",
       "      <td>True</td>\n",
       "      <td>True</td>\n",
       "      <td>False</td>\n",
       "      <td>True</td>\n",
       "      <td>False</td>\n",
       "      <td>False</td>\n",
       "      <td>True</td>\n",
       "    </tr>\n",
       "    <tr>\n",
       "      <th>4</th>\n",
       "      <td>5</td>\n",
       "      <td>5</td>\n",
       "      <td>False</td>\n",
       "      <td>True</td>\n",
       "      <td>False</td>\n",
       "      <td>False</td>\n",
       "      <td>True</td>\n",
       "      <td>False</td>\n",
       "      <td>False</td>\n",
       "      <td>True</td>\n",
       "      <td>True</td>\n",
       "      <td>False</td>\n",
       "      <td>False</td>\n",
       "      <td>True</td>\n",
       "    </tr>\n",
       "  </tbody>\n",
       "</table>\n",
       "</div>"
      ],
      "text/plain": [
       "   index  rank  cost_20m  cost_22m  cost_24m  brand_daewoo  brand_hyundai  \\\n",
       "0      1     4      True     False     False         False           True   \n",
       "1      2     3     False      True     False         False           True   \n",
       "2      3    16     False     False      True          True          False   \n",
       "3      4    15     False     False      True         False          False   \n",
       "4      5     5     False      True     False         False           True   \n",
       "\n",
       "   brand_kia  fuel_diesel  fuel_gas  ABS_no  ABS_yes  safety_4_stars  \\\n",
       "0      False        False      True    True    False            True   \n",
       "1      False         True     False   False     True            True   \n",
       "2      False        False      True   False     True           False   \n",
       "3       True         True     False    True    False           False   \n",
       "4      False        False      True    True    False           False   \n",
       "\n",
       "   safety_5_stars  \n",
       "0           False  \n",
       "1           False  \n",
       "2            True  \n",
       "3            True  \n",
       "4            True  "
      ]
     },
     "execution_count": 8,
     "metadata": {},
     "output_type": "execute_result"
    }
   ],
   "source": [
    "data_dummy = pd.get_dummies(data, columns=['cost', 'brand', 'fuel', 'ABS', 'safety'])\n",
    "data_dummy.head(5)"
   ]
  },
  {
   "cell_type": "code",
   "execution_count": 9,
   "metadata": {},
   "outputs": [],
   "source": [
    "import statsmodels.api as sm\n",
    "# from statsmodels.formula.api import ols\n",
    "from statsmodels.genmod.families import Binomial\n",
    "from statsmodels.genmod.families.links import logit\n",
    "\n",
    "X = data_dummy.drop(['rank', 'index'], axis=1)\n",
    "y = -data_dummy['rank']    # 종속 변수의 부호를 마이너스(-)로 변경 : 중요도가 클 수록 Coefficient가 큰 양수가 되도록"
   ]
  },
  {
   "cell_type": "code",
   "execution_count": 10,
   "metadata": {},
   "outputs": [],
   "source": [
    "# X\n",
    "# y"
   ]
  },
  {
   "cell_type": "code",
   "execution_count": 11,
   "metadata": {},
   "outputs": [
    {
     "name": "stderr",
     "output_type": "stream",
     "text": [
      "c:\\Users\\wonta\\anaconda3\\Lib\\site-packages\\scipy\\stats\\_axis_nan_policy.py:430: UserWarning: `kurtosistest` p-value may be inaccurate with fewer than 20 observations; only n=18 observations were given.\n",
      "  return hypotest_fun_in(*args, **kwds)\n"
     ]
    },
    {
     "data": {
      "text/html": [
       "<table class=\"simpletable\">\n",
       "<caption>OLS Regression Results</caption>\n",
       "<tr>\n",
       "  <th>Dep. Variable:</th>        <td>rank</td>      <th>  R-squared:         </th> <td>   0.936</td>\n",
       "</tr>\n",
       "<tr>\n",
       "  <th>Model:</th>                 <td>OLS</td>      <th>  Adj. R-squared:    </th> <td>   0.892</td>\n",
       "</tr>\n",
       "<tr>\n",
       "  <th>Method:</th>           <td>Least Squares</td> <th>  F-statistic:       </th> <td>   21.04</td>\n",
       "</tr>\n",
       "<tr>\n",
       "  <th>Date:</th>             <td>목, 13 3 2025</td>  <th>  Prob (F-statistic):</th> <td>3.19e-05</td>\n",
       "</tr>\n",
       "<tr>\n",
       "  <th>Time:</th>               <td>15:22:01</td>    <th>  Log-Likelihood:    </th> <td> -30.377</td>\n",
       "</tr>\n",
       "<tr>\n",
       "  <th>No. Observations:</th>    <td>    18</td>     <th>  AIC:               </th> <td>   76.75</td>\n",
       "</tr>\n",
       "<tr>\n",
       "  <th>Df Residuals:</th>        <td>    10</td>     <th>  BIC:               </th> <td>   83.88</td>\n",
       "</tr>\n",
       "<tr>\n",
       "  <th>Df Model:</th>            <td>     7</td>     <th>                     </th>     <td> </td>   \n",
       "</tr>\n",
       "<tr>\n",
       "  <th>Covariance Type:</th>    <td>nonrobust</td>   <th>                     </th>     <td> </td>   \n",
       "</tr>\n",
       "</table>\n",
       "<table class=\"simpletable\">\n",
       "<tr>\n",
       "         <td></td>           <th>coef</th>     <th>std err</th>      <th>t</th>      <th>P>|t|</th>  <th>[0.025</th>    <th>0.975]</th>  \n",
       "</tr>\n",
       "<tr>\n",
       "  <th>cost_20m</th>       <td>    1.6143</td> <td>    0.595</td> <td>    2.715</td> <td> 0.022</td> <td>    0.289</td> <td>    2.939</td>\n",
       "</tr>\n",
       "<tr>\n",
       "  <th>cost_22m</th>       <td>   -1.2885</td> <td>    0.593</td> <td>   -2.172</td> <td> 0.055</td> <td>   -2.610</td> <td>    0.033</td>\n",
       "</tr>\n",
       "<tr>\n",
       "  <th>cost_24m</th>       <td>   -4.4551</td> <td>    0.593</td> <td>   -7.510</td> <td> 0.000</td> <td>   -5.777</td> <td>   -3.133</td>\n",
       "</tr>\n",
       "<tr>\n",
       "  <th>brand_daewoo</th>   <td>   -6.4551</td> <td>    0.593</td> <td>  -10.882</td> <td> 0.000</td> <td>   -7.777</td> <td>   -5.133</td>\n",
       "</tr>\n",
       "<tr>\n",
       "  <th>brand_hyundai</th>  <td>    3.6143</td> <td>    0.595</td> <td>    6.079</td> <td> 0.000</td> <td>    2.289</td> <td>    4.939</td>\n",
       "</tr>\n",
       "<tr>\n",
       "  <th>brand_kia</th>      <td>   -1.2885</td> <td>    0.593</td> <td>   -2.172</td> <td> 0.055</td> <td>   -2.610</td> <td>    0.033</td>\n",
       "</tr>\n",
       "<tr>\n",
       "  <th>fuel_diesel</th>    <td>   -1.6237</td> <td>    0.488</td> <td>   -3.330</td> <td> 0.008</td> <td>   -2.710</td> <td>   -0.537</td>\n",
       "</tr>\n",
       "<tr>\n",
       "  <th>fuel_gas</th>       <td>   -2.5056</td> <td>    0.418</td> <td>   -6.000</td> <td> 0.000</td> <td>   -3.436</td> <td>   -1.575</td>\n",
       "</tr>\n",
       "<tr>\n",
       "  <th>ABS_no</th>         <td>   -3.7556</td> <td>    0.418</td> <td>   -8.994</td> <td> 0.000</td> <td>   -4.686</td> <td>   -2.825</td>\n",
       "</tr>\n",
       "<tr>\n",
       "  <th>ABS_yes</th>        <td>   -0.3737</td> <td>    0.488</td> <td>   -0.766</td> <td> 0.461</td> <td>   -1.460</td> <td>    0.713</td>\n",
       "</tr>\n",
       "<tr>\n",
       "  <th>safety_4_stars</th> <td>   -2.7730</td> <td>    0.479</td> <td>   -5.790</td> <td> 0.000</td> <td>   -3.840</td> <td>   -1.706</td>\n",
       "</tr>\n",
       "<tr>\n",
       "  <th>safety_5_stars</th> <td>   -1.3563</td> <td>    0.424</td> <td>   -3.197</td> <td> 0.010</td> <td>   -2.302</td> <td>   -0.411</td>\n",
       "</tr>\n",
       "</table>\n",
       "<table class=\"simpletable\">\n",
       "<tr>\n",
       "  <th>Omnibus:</th>       <td> 0.608</td> <th>  Durbin-Watson:     </th> <td>   1.762</td>\n",
       "</tr>\n",
       "<tr>\n",
       "  <th>Prob(Omnibus):</th> <td> 0.738</td> <th>  Jarque-Bera (JB):  </th> <td>   0.636</td>\n",
       "</tr>\n",
       "<tr>\n",
       "  <th>Skew:</th>          <td>-0.183</td> <th>  Prob(JB):          </th> <td>   0.728</td>\n",
       "</tr>\n",
       "<tr>\n",
       "  <th>Kurtosis:</th>      <td> 2.155</td> <th>  Cond. No.          </th> <td>3.93e+16</td>\n",
       "</tr>\n",
       "</table><br/><br/>Notes:<br/>[1] Standard Errors assume that the covariance matrix of the errors is correctly specified.<br/>[2] The smallest eigenvalue is 2.72e-32. This might indicate that there are<br/>strong multicollinearity problems or that the design matrix is singular."
      ],
      "text/latex": [
       "\\begin{center}\n",
       "\\begin{tabular}{lclc}\n",
       "\\toprule\n",
       "\\textbf{Dep. Variable:}    &      rank     & \\textbf{  R-squared:         } &     0.936   \\\\\n",
       "\\textbf{Model:}            &      OLS      & \\textbf{  Adj. R-squared:    } &     0.892   \\\\\n",
       "\\textbf{Method:}           & Least Squares & \\textbf{  F-statistic:       } &     21.04   \\\\\n",
       "\\textbf{Date:}             &  목, 13 3 2025 & \\textbf{  Prob (F-statistic):} &  3.19e-05   \\\\\n",
       "\\textbf{Time:}             &    15:22:01   & \\textbf{  Log-Likelihood:    } &   -30.377   \\\\\n",
       "\\textbf{No. Observations:} &         18    & \\textbf{  AIC:               } &     76.75   \\\\\n",
       "\\textbf{Df Residuals:}     &         10    & \\textbf{  BIC:               } &     83.88   \\\\\n",
       "\\textbf{Df Model:}         &          7    & \\textbf{                     } &             \\\\\n",
       "\\textbf{Covariance Type:}  &   nonrobust   & \\textbf{                     } &             \\\\\n",
       "\\bottomrule\n",
       "\\end{tabular}\n",
       "\\begin{tabular}{lcccccc}\n",
       "                          & \\textbf{coef} & \\textbf{std err} & \\textbf{t} & \\textbf{P$> |$t$|$} & \\textbf{[0.025} & \\textbf{0.975]}  \\\\\n",
       "\\midrule\n",
       "\\textbf{cost\\_20m}        &       1.6143  &        0.595     &     2.715  &         0.022        &        0.289    &        2.939     \\\\\n",
       "\\textbf{cost\\_22m}        &      -1.2885  &        0.593     &    -2.172  &         0.055        &       -2.610    &        0.033     \\\\\n",
       "\\textbf{cost\\_24m}        &      -4.4551  &        0.593     &    -7.510  &         0.000        &       -5.777    &       -3.133     \\\\\n",
       "\\textbf{brand\\_daewoo}    &      -6.4551  &        0.593     &   -10.882  &         0.000        &       -7.777    &       -5.133     \\\\\n",
       "\\textbf{brand\\_hyundai}   &       3.6143  &        0.595     &     6.079  &         0.000        &        2.289    &        4.939     \\\\\n",
       "\\textbf{brand\\_kia}       &      -1.2885  &        0.593     &    -2.172  &         0.055        &       -2.610    &        0.033     \\\\\n",
       "\\textbf{fuel\\_diesel}     &      -1.6237  &        0.488     &    -3.330  &         0.008        &       -2.710    &       -0.537     \\\\\n",
       "\\textbf{fuel\\_gas}        &      -2.5056  &        0.418     &    -6.000  &         0.000        &       -3.436    &       -1.575     \\\\\n",
       "\\textbf{ABS\\_no}          &      -3.7556  &        0.418     &    -8.994  &         0.000        &       -4.686    &       -2.825     \\\\\n",
       "\\textbf{ABS\\_yes}         &      -0.3737  &        0.488     &    -0.766  &         0.461        &       -1.460    &        0.713     \\\\\n",
       "\\textbf{safety\\_4\\_stars} &      -2.7730  &        0.479     &    -5.790  &         0.000        &       -3.840    &       -1.706     \\\\\n",
       "\\textbf{safety\\_5\\_stars} &      -1.3563  &        0.424     &    -3.197  &         0.010        &       -2.302    &       -0.411     \\\\\n",
       "\\bottomrule\n",
       "\\end{tabular}\n",
       "\\begin{tabular}{lclc}\n",
       "\\textbf{Omnibus:}       &  0.608 & \\textbf{  Durbin-Watson:     } &    1.762  \\\\\n",
       "\\textbf{Prob(Omnibus):} &  0.738 & \\textbf{  Jarque-Bera (JB):  } &    0.636  \\\\\n",
       "\\textbf{Skew:}          & -0.183 & \\textbf{  Prob(JB):          } &    0.728  \\\\\n",
       "\\textbf{Kurtosis:}      &  2.155 & \\textbf{  Cond. No.          } & 3.93e+16  \\\\\n",
       "\\bottomrule\n",
       "\\end{tabular}\n",
       "%\\caption{OLS Regression Results}\n",
       "\\end{center}\n",
       "\n",
       "Notes: \\newline\n",
       " [1] Standard Errors assume that the covariance matrix of the errors is correctly specified. \\newline\n",
       " [2] The smallest eigenvalue is 2.72e-32. This might indicate that there are \\newline\n",
       " strong multicollinearity problems or that the design matrix is singular."
      ],
      "text/plain": [
       "<class 'statsmodels.iolib.summary.Summary'>\n",
       "\"\"\"\n",
       "                            OLS Regression Results                            \n",
       "==============================================================================\n",
       "Dep. Variable:                   rank   R-squared:                       0.936\n",
       "Model:                            OLS   Adj. R-squared:                  0.892\n",
       "Method:                 Least Squares   F-statistic:                     21.04\n",
       "Date:                    목, 13 3 2025   Prob (F-statistic):           3.19e-05\n",
       "Time:                        15:22:01   Log-Likelihood:                -30.377\n",
       "No. Observations:                  18   AIC:                             76.75\n",
       "Df Residuals:                      10   BIC:                             83.88\n",
       "Df Model:                           7                                         \n",
       "Covariance Type:            nonrobust                                         \n",
       "==================================================================================\n",
       "                     coef    std err          t      P>|t|      [0.025      0.975]\n",
       "----------------------------------------------------------------------------------\n",
       "cost_20m           1.6143      0.595      2.715      0.022       0.289       2.939\n",
       "cost_22m          -1.2885      0.593     -2.172      0.055      -2.610       0.033\n",
       "cost_24m          -4.4551      0.593     -7.510      0.000      -5.777      -3.133\n",
       "brand_daewoo      -6.4551      0.593    -10.882      0.000      -7.777      -5.133\n",
       "brand_hyundai      3.6143      0.595      6.079      0.000       2.289       4.939\n",
       "brand_kia         -1.2885      0.593     -2.172      0.055      -2.610       0.033\n",
       "fuel_diesel       -1.6237      0.488     -3.330      0.008      -2.710      -0.537\n",
       "fuel_gas          -2.5056      0.418     -6.000      0.000      -3.436      -1.575\n",
       "ABS_no            -3.7556      0.418     -8.994      0.000      -4.686      -2.825\n",
       "ABS_yes           -0.3737      0.488     -0.766      0.461      -1.460       0.713\n",
       "safety_4_stars    -2.7730      0.479     -5.790      0.000      -3.840      -1.706\n",
       "safety_5_stars    -1.3563      0.424     -3.197      0.010      -2.302      -0.411\n",
       "==============================================================================\n",
       "Omnibus:                        0.608   Durbin-Watson:                   1.762\n",
       "Prob(Omnibus):                  0.738   Jarque-Bera (JB):                0.636\n",
       "Skew:                          -0.183   Prob(JB):                        0.728\n",
       "Kurtosis:                       2.155   Cond. No.                     3.93e+16\n",
       "==============================================================================\n",
       "\n",
       "Notes:\n",
       "[1] Standard Errors assume that the covariance matrix of the errors is correctly specified.\n",
       "[2] The smallest eigenvalue is 2.72e-32. This might indicate that there are\n",
       "strong multicollinearity problems or that the design matrix is singular.\n",
       "\"\"\""
      ]
     },
     "execution_count": 11,
     "metadata": {},
     "output_type": "execute_result"
    }
   ],
   "source": [
    "# 에러 발생 (250313) \n",
    "\n",
    "linearRegression = sm.OLS(y, X)\n",
    "res = linearRegression.fit()\n",
    "res.summary()"
   ]
  },
  {
   "cell_type": "code",
   "execution_count": null,
   "metadata": {},
   "outputs": [],
   "source": [
    "# 참고 문헌\n",
    "# 1) 컨조인트 분석을 이용한 최적 상품 설계 분석방법과 적용 사례, 2006\n",
    "# 2) 파이썬 비즈니스 통계 분석 -  15장 컨조인트 분석, 김형수 저"
   ]
  },
  {
   "cell_type": "markdown",
   "metadata": {},
   "source": [
    "##### 평균 효용값의 비교\n",
    "\n",
    "###### coef 값이 클 수록 선호도가 높은 것을 나타낸다 : -y 값으로 계산 참조\n",
    "###### 소비자에게 가장 이상적인 자동차 : \"brand_hyundai\" + \"cost_20m\" + \"\"fuel_diesel\" + \"ABS_yes\" + \"safety_5\""
   ]
  },
  {
   "cell_type": "markdown",
   "metadata": {},
   "source": [
    "##### 부분 가치(Part Worth)\n",
    "###### 컨조인트 분석 : 어떤 제품이나 서비스, 매장 등에 대해서 여러가지 대안을 만들었을 때,\n",
    "###### 그 대안들에 부여하는 소비자들의 선호도를 측정하여 \n",
    "###### 소비자가 각 속성(attribute)에 부여하는 상대적 중요도(relative importance)dhk\n",
    "###### 각 속성 수준의 효용(utility), 부분 가치(part worth)를 추정하는 분석 방법"
   ]
  },
  {
   "cell_type": "code",
   "execution_count": 13,
   "metadata": {},
   "outputs": [
    {
     "data": {
      "application/vnd.microsoft.datawrangler.viewer.v0+json": {
       "columns": [
        {
         "name": "index",
         "rawType": "object",
         "type": "string"
        },
        {
         "name": "param_name",
         "rawType": "object",
         "type": "string"
        },
        {
         "name": "param_w",
         "rawType": "float64",
         "type": "float"
        },
        {
         "name": "pval",
         "rawType": "float64",
         "type": "float"
        }
       ],
       "conversionMethod": "pd.DataFrame",
       "ref": "60f4d485-6a5f-4edd-b7b1-49a5964823c7",
       "rows": [
        [
         "cost_20m",
         "cost_20m",
         "1.61431623931624",
         "0.021747709787061115"
        ],
        [
         "cost_22m",
         "cost_22m",
         "-1.2884615384615374",
         "0.054984173217455364"
        ],
        [
         "cost_24m",
         "cost_24m",
         "-4.455128205128204",
         "2.0389317200921417e-05"
        ],
        [
         "brand_daewoo",
         "brand_daewoo",
         "-6.455128205128208",
         "7.289770577746175e-07"
        ],
        [
         "brand_hyundai",
         "brand_hyundai",
         "3.614316239316239",
         "0.00011901854880559794"
        ],
        [
         "brand_kia",
         "brand_kia",
         "-1.288461538461539",
         "0.05498417321745516"
        ],
        [
         "fuel_diesel",
         "fuel_diesel",
         "-1.6236645299145285",
         "0.007617164500948036"
        ],
        [
         "fuel_gas",
         "fuel_gas",
         "-2.5056089743589824",
         "0.00013206879173243522"
        ],
        [
         "ABS_no",
         "ABS_no",
         "-3.7556089743589727",
         "4.164493971681652e-06"
        ],
        [
         "ABS_yes",
         "ABS_yes",
         "-0.37366452991453813",
         "0.46116569699113485"
        ],
        [
         "safety_4_stars",
         "safety_4_stars",
         "-2.772970085470085",
         "0.0001754320971471724"
        ],
        [
         "safety_5_stars",
         "safety_5_stars",
         "-1.356303418803423",
         "0.009547725783967542"
        ]
       ],
       "shape": {
        "columns": 3,
        "rows": 12
       }
      },
      "text/html": [
       "<div>\n",
       "<style scoped>\n",
       "    .dataframe tbody tr th:only-of-type {\n",
       "        vertical-align: middle;\n",
       "    }\n",
       "\n",
       "    .dataframe tbody tr th {\n",
       "        vertical-align: top;\n",
       "    }\n",
       "\n",
       "    .dataframe thead th {\n",
       "        text-align: right;\n",
       "    }\n",
       "</style>\n",
       "<table border=\"1\" class=\"dataframe\">\n",
       "  <thead>\n",
       "    <tr style=\"text-align: right;\">\n",
       "      <th></th>\n",
       "      <th>param_name</th>\n",
       "      <th>param_w</th>\n",
       "      <th>pval</th>\n",
       "    </tr>\n",
       "  </thead>\n",
       "  <tbody>\n",
       "    <tr>\n",
       "      <th>cost_20m</th>\n",
       "      <td>cost_20m</td>\n",
       "      <td>1.614316</td>\n",
       "      <td>2.174771e-02</td>\n",
       "    </tr>\n",
       "    <tr>\n",
       "      <th>cost_22m</th>\n",
       "      <td>cost_22m</td>\n",
       "      <td>-1.288462</td>\n",
       "      <td>5.498417e-02</td>\n",
       "    </tr>\n",
       "    <tr>\n",
       "      <th>cost_24m</th>\n",
       "      <td>cost_24m</td>\n",
       "      <td>-4.455128</td>\n",
       "      <td>2.038932e-05</td>\n",
       "    </tr>\n",
       "    <tr>\n",
       "      <th>brand_daewoo</th>\n",
       "      <td>brand_daewoo</td>\n",
       "      <td>-6.455128</td>\n",
       "      <td>7.289771e-07</td>\n",
       "    </tr>\n",
       "    <tr>\n",
       "      <th>brand_hyundai</th>\n",
       "      <td>brand_hyundai</td>\n",
       "      <td>3.614316</td>\n",
       "      <td>1.190185e-04</td>\n",
       "    </tr>\n",
       "    <tr>\n",
       "      <th>brand_kia</th>\n",
       "      <td>brand_kia</td>\n",
       "      <td>-1.288462</td>\n",
       "      <td>5.498417e-02</td>\n",
       "    </tr>\n",
       "    <tr>\n",
       "      <th>fuel_diesel</th>\n",
       "      <td>fuel_diesel</td>\n",
       "      <td>-1.623665</td>\n",
       "      <td>7.617165e-03</td>\n",
       "    </tr>\n",
       "    <tr>\n",
       "      <th>fuel_gas</th>\n",
       "      <td>fuel_gas</td>\n",
       "      <td>-2.505609</td>\n",
       "      <td>1.320688e-04</td>\n",
       "    </tr>\n",
       "    <tr>\n",
       "      <th>ABS_no</th>\n",
       "      <td>ABS_no</td>\n",
       "      <td>-3.755609</td>\n",
       "      <td>4.164494e-06</td>\n",
       "    </tr>\n",
       "    <tr>\n",
       "      <th>ABS_yes</th>\n",
       "      <td>ABS_yes</td>\n",
       "      <td>-0.373665</td>\n",
       "      <td>4.611657e-01</td>\n",
       "    </tr>\n",
       "    <tr>\n",
       "      <th>safety_4_stars</th>\n",
       "      <td>safety_4_stars</td>\n",
       "      <td>-2.772970</td>\n",
       "      <td>1.754321e-04</td>\n",
       "    </tr>\n",
       "    <tr>\n",
       "      <th>safety_5_stars</th>\n",
       "      <td>safety_5_stars</td>\n",
       "      <td>-1.356303</td>\n",
       "      <td>9.547726e-03</td>\n",
       "    </tr>\n",
       "  </tbody>\n",
       "</table>\n",
       "</div>"
      ],
      "text/plain": [
       "                    param_name   param_w          pval\n",
       "cost_20m              cost_20m  1.614316  2.174771e-02\n",
       "cost_22m              cost_22m -1.288462  5.498417e-02\n",
       "cost_24m              cost_24m -4.455128  2.038932e-05\n",
       "brand_daewoo      brand_daewoo -6.455128  7.289771e-07\n",
       "brand_hyundai    brand_hyundai  3.614316  1.190185e-04\n",
       "brand_kia            brand_kia -1.288462  5.498417e-02\n",
       "fuel_diesel        fuel_diesel -1.623665  7.617165e-03\n",
       "fuel_gas              fuel_gas -2.505609  1.320688e-04\n",
       "ABS_no                  ABS_no -3.755609  4.164494e-06\n",
       "ABS_yes                ABS_yes -0.373665  4.611657e-01\n",
       "safety_4_stars  safety_4_stars -2.772970  1.754321e-04\n",
       "safety_5_stars  safety_5_stars -1.356303  9.547726e-03"
      ]
     },
     "execution_count": 13,
     "metadata": {},
     "output_type": "execute_result"
    }
   ],
   "source": [
    "import numpy as np\n",
    "\n",
    "# 선형회귀 결과 값 추출\n",
    "df_res = pd.DataFrame({'param_name': res.params.keys(),   # 파라미터 이름\n",
    "                       'param_w': res.params.values,      # 가중치\n",
    "                       'pval': res.pvalues})              # p-value\n",
    "\n",
    "df_res"
   ]
  },
  {
   "cell_type": "code",
   "execution_count": null,
   "metadata": {},
   "outputs": [],
   "source": [
    "# Adding field for absolute of parameters\n",
    "df_res['abs_param_w'] = np.abs(df_res['param_w'])\n",
    "\n",
    "# Marking field is significant under 95% confidence interval : p-value < 0.05 여부\n",
    "df_res['is_sig_95'] = (df_res['pval'] < 0.05)\n",
    "\n",
    "# constructing color naming for each param\n",
    "df_res['color'] = ['blue' if x else 'red' for x in df_res['is_sig_95']]\n",
    "\n",
    "# make it sorted by abs of parameter value\n",
    "df_res =df_res.sort_values(by='abs_param_w', ascending=True)\n",
    "\n",
    "# 깔떼기 모양의 그래프를 그리기 위하여 : 절대 값을 내림차순으로 정리리\n"
   ]
  },
  {
   "cell_type": "code",
   "execution_count": 15,
   "metadata": {},
   "outputs": [
    {
     "data": {
      "application/vnd.microsoft.datawrangler.viewer.v0+json": {
       "columns": [
        {
         "name": "index",
         "rawType": "object",
         "type": "string"
        },
        {
         "name": "param_name",
         "rawType": "object",
         "type": "string"
        },
        {
         "name": "param_w",
         "rawType": "float64",
         "type": "float"
        },
        {
         "name": "pval",
         "rawType": "float64",
         "type": "float"
        },
        {
         "name": "abs_param_w",
         "rawType": "float64",
         "type": "float"
        },
        {
         "name": "is_sig_95",
         "rawType": "bool",
         "type": "boolean"
        },
        {
         "name": "color",
         "rawType": "object",
         "type": "string"
        }
       ],
       "conversionMethod": "pd.DataFrame",
       "ref": "176c694a-b5e6-4abb-afbd-2d04596e3e25",
       "rows": [
        [
         "ABS_yes",
         "ABS_yes",
         "-0.37366452991453813",
         "0.46116569699113485",
         "0.37366452991453813",
         "False",
         "red"
        ],
        [
         "cost_22m",
         "cost_22m",
         "-1.2884615384615374",
         "0.054984173217455364",
         "1.2884615384615374",
         "False",
         "red"
        ],
        [
         "brand_kia",
         "brand_kia",
         "-1.288461538461539",
         "0.05498417321745516",
         "1.288461538461539",
         "False",
         "red"
        ],
        [
         "safety_5_stars",
         "safety_5_stars",
         "-1.356303418803423",
         "0.009547725783967542",
         "1.356303418803423",
         "True",
         "blue"
        ],
        [
         "cost_20m",
         "cost_20m",
         "1.61431623931624",
         "0.021747709787061115",
         "1.61431623931624",
         "True",
         "blue"
        ],
        [
         "fuel_diesel",
         "fuel_diesel",
         "-1.6236645299145285",
         "0.007617164500948036",
         "1.6236645299145285",
         "True",
         "blue"
        ],
        [
         "fuel_gas",
         "fuel_gas",
         "-2.5056089743589824",
         "0.00013206879173243522",
         "2.5056089743589824",
         "True",
         "blue"
        ],
        [
         "safety_4_stars",
         "safety_4_stars",
         "-2.772970085470085",
         "0.0001754320971471724",
         "2.772970085470085",
         "True",
         "blue"
        ],
        [
         "brand_hyundai",
         "brand_hyundai",
         "3.614316239316239",
         "0.00011901854880559794",
         "3.614316239316239",
         "True",
         "blue"
        ],
        [
         "ABS_no",
         "ABS_no",
         "-3.7556089743589727",
         "4.164493971681652e-06",
         "3.7556089743589727",
         "True",
         "blue"
        ],
        [
         "cost_24m",
         "cost_24m",
         "-4.455128205128204",
         "2.0389317200921417e-05",
         "4.455128205128204",
         "True",
         "blue"
        ],
        [
         "brand_daewoo",
         "brand_daewoo",
         "-6.455128205128208",
         "7.289770577746175e-07",
         "6.455128205128208",
         "True",
         "blue"
        ]
       ],
       "shape": {
        "columns": 6,
        "rows": 12
       }
      },
      "text/html": [
       "<div>\n",
       "<style scoped>\n",
       "    .dataframe tbody tr th:only-of-type {\n",
       "        vertical-align: middle;\n",
       "    }\n",
       "\n",
       "    .dataframe tbody tr th {\n",
       "        vertical-align: top;\n",
       "    }\n",
       "\n",
       "    .dataframe thead th {\n",
       "        text-align: right;\n",
       "    }\n",
       "</style>\n",
       "<table border=\"1\" class=\"dataframe\">\n",
       "  <thead>\n",
       "    <tr style=\"text-align: right;\">\n",
       "      <th></th>\n",
       "      <th>param_name</th>\n",
       "      <th>param_w</th>\n",
       "      <th>pval</th>\n",
       "      <th>abs_param_w</th>\n",
       "      <th>is_sig_95</th>\n",
       "      <th>color</th>\n",
       "    </tr>\n",
       "  </thead>\n",
       "  <tbody>\n",
       "    <tr>\n",
       "      <th>ABS_yes</th>\n",
       "      <td>ABS_yes</td>\n",
       "      <td>-0.373665</td>\n",
       "      <td>4.611657e-01</td>\n",
       "      <td>0.373665</td>\n",
       "      <td>False</td>\n",
       "      <td>red</td>\n",
       "    </tr>\n",
       "    <tr>\n",
       "      <th>cost_22m</th>\n",
       "      <td>cost_22m</td>\n",
       "      <td>-1.288462</td>\n",
       "      <td>5.498417e-02</td>\n",
       "      <td>1.288462</td>\n",
       "      <td>False</td>\n",
       "      <td>red</td>\n",
       "    </tr>\n",
       "    <tr>\n",
       "      <th>brand_kia</th>\n",
       "      <td>brand_kia</td>\n",
       "      <td>-1.288462</td>\n",
       "      <td>5.498417e-02</td>\n",
       "      <td>1.288462</td>\n",
       "      <td>False</td>\n",
       "      <td>red</td>\n",
       "    </tr>\n",
       "    <tr>\n",
       "      <th>safety_5_stars</th>\n",
       "      <td>safety_5_stars</td>\n",
       "      <td>-1.356303</td>\n",
       "      <td>9.547726e-03</td>\n",
       "      <td>1.356303</td>\n",
       "      <td>True</td>\n",
       "      <td>blue</td>\n",
       "    </tr>\n",
       "    <tr>\n",
       "      <th>cost_20m</th>\n",
       "      <td>cost_20m</td>\n",
       "      <td>1.614316</td>\n",
       "      <td>2.174771e-02</td>\n",
       "      <td>1.614316</td>\n",
       "      <td>True</td>\n",
       "      <td>blue</td>\n",
       "    </tr>\n",
       "    <tr>\n",
       "      <th>fuel_diesel</th>\n",
       "      <td>fuel_diesel</td>\n",
       "      <td>-1.623665</td>\n",
       "      <td>7.617165e-03</td>\n",
       "      <td>1.623665</td>\n",
       "      <td>True</td>\n",
       "      <td>blue</td>\n",
       "    </tr>\n",
       "    <tr>\n",
       "      <th>fuel_gas</th>\n",
       "      <td>fuel_gas</td>\n",
       "      <td>-2.505609</td>\n",
       "      <td>1.320688e-04</td>\n",
       "      <td>2.505609</td>\n",
       "      <td>True</td>\n",
       "      <td>blue</td>\n",
       "    </tr>\n",
       "    <tr>\n",
       "      <th>safety_4_stars</th>\n",
       "      <td>safety_4_stars</td>\n",
       "      <td>-2.772970</td>\n",
       "      <td>1.754321e-04</td>\n",
       "      <td>2.772970</td>\n",
       "      <td>True</td>\n",
       "      <td>blue</td>\n",
       "    </tr>\n",
       "    <tr>\n",
       "      <th>brand_hyundai</th>\n",
       "      <td>brand_hyundai</td>\n",
       "      <td>3.614316</td>\n",
       "      <td>1.190185e-04</td>\n",
       "      <td>3.614316</td>\n",
       "      <td>True</td>\n",
       "      <td>blue</td>\n",
       "    </tr>\n",
       "    <tr>\n",
       "      <th>ABS_no</th>\n",
       "      <td>ABS_no</td>\n",
       "      <td>-3.755609</td>\n",
       "      <td>4.164494e-06</td>\n",
       "      <td>3.755609</td>\n",
       "      <td>True</td>\n",
       "      <td>blue</td>\n",
       "    </tr>\n",
       "    <tr>\n",
       "      <th>cost_24m</th>\n",
       "      <td>cost_24m</td>\n",
       "      <td>-4.455128</td>\n",
       "      <td>2.038932e-05</td>\n",
       "      <td>4.455128</td>\n",
       "      <td>True</td>\n",
       "      <td>blue</td>\n",
       "    </tr>\n",
       "    <tr>\n",
       "      <th>brand_daewoo</th>\n",
       "      <td>brand_daewoo</td>\n",
       "      <td>-6.455128</td>\n",
       "      <td>7.289771e-07</td>\n",
       "      <td>6.455128</td>\n",
       "      <td>True</td>\n",
       "      <td>blue</td>\n",
       "    </tr>\n",
       "  </tbody>\n",
       "</table>\n",
       "</div>"
      ],
      "text/plain": [
       "                    param_name   param_w          pval  abs_param_w  \\\n",
       "ABS_yes                ABS_yes -0.373665  4.611657e-01     0.373665   \n",
       "cost_22m              cost_22m -1.288462  5.498417e-02     1.288462   \n",
       "brand_kia            brand_kia -1.288462  5.498417e-02     1.288462   \n",
       "safety_5_stars  safety_5_stars -1.356303  9.547726e-03     1.356303   \n",
       "cost_20m              cost_20m  1.614316  2.174771e-02     1.614316   \n",
       "fuel_diesel        fuel_diesel -1.623665  7.617165e-03     1.623665   \n",
       "fuel_gas              fuel_gas -2.505609  1.320688e-04     2.505609   \n",
       "safety_4_stars  safety_4_stars -2.772970  1.754321e-04     2.772970   \n",
       "brand_hyundai    brand_hyundai  3.614316  1.190185e-04     3.614316   \n",
       "ABS_no                  ABS_no -3.755609  4.164494e-06     3.755609   \n",
       "cost_24m              cost_24m -4.455128  2.038932e-05     4.455128   \n",
       "brand_daewoo      brand_daewoo -6.455128  7.289771e-07     6.455128   \n",
       "\n",
       "                is_sig_95 color  \n",
       "ABS_yes             False   red  \n",
       "cost_22m            False   red  \n",
       "brand_kia           False   red  \n",
       "safety_5_stars       True  blue  \n",
       "cost_20m             True  blue  \n",
       "fuel_diesel          True  blue  \n",
       "fuel_gas             True  blue  \n",
       "safety_4_stars       True  blue  \n",
       "brand_hyundai        True  blue  \n",
       "ABS_no               True  blue  \n",
       "cost_24m             True  blue  \n",
       "brand_daewoo         True  blue  "
      ]
     },
     "execution_count": 15,
     "metadata": {},
     "output_type": "execute_result"
    }
   ],
   "source": [
    "df_res"
   ]
  },
  {
   "cell_type": "code",
   "execution_count": 19,
   "metadata": {},
   "outputs": [
    {
     "data": {
      "image/png": "[encoded data removed]",
      "text/plain": [
       "<Figure size 600x400 with 1 Axes>"
      ]
     },
     "metadata": {},
     "output_type": "display_data"
    }
   ],
   "source": [
    "import matplotlib.pyplot as plt\n",
    "\n",
    "f, ax = plt.subplots(figsize=(6, 4))\n",
    "\n",
    "plt.title('Part Worth')\n",
    "pwu = df_res['param_w']\n",
    "xbar = np.arange(len(pwu))\n",
    "\n",
    "plt.barh(xbar, pwu, color=df_res['color'])\n",
    "plt.yticks(xbar, labels=df_res['param_name'])\n",
    "plt.show()"
   ]
  },
  {
   "cell_type": "code",
   "execution_count": null,
   "metadata": {},
   "outputs": [],
   "source": [
    "# 부분 가치(Part Worth) : \"brand_hyundai\" + \"cost_20m\"\n",
    "# Red : p-value > 0.05 항목"
   ]
  }
 ],
 "metadata": {
  "kernelspec": {
   "display_name": "base",
   "language": "python",
   "name": "base"
  },
  "language_info": {
   "codemirror_mode": {
    "name": "ipython",
    "version": 3
   },
   "file_extension": ".py",
   "mimetype": "text/x-python",
   "name": "python",
   "nbconvert_exporter": "python",
   "pygments_lexer": "ipython3",
   "version": "3.11.7"
  }
 },
 "nbformat": 4,
 "nbformat_minor": 2
}
