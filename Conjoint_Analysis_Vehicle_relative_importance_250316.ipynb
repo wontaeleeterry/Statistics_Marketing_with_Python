{
 "cells": [
  {
   "cell_type": "code",
   "execution_count": 1,
   "metadata": {},
   "outputs": [
    {
     "data": {
      "application/vnd.microsoft.datawrangler.viewer.v0+json": {
       "columns": [
        {
         "name": "index",
         "rawType": "int64",
         "type": "integer"
        },
        {
         "name": "index",
         "rawType": "int64",
         "type": "integer"
        },
        {
         "name": "rank",
         "rawType": "int64",
         "type": "integer"
        },
        {
         "name": "cost",
         "rawType": "object",
         "type": "string"
        },
        {
         "name": "brand",
         "rawType": "object",
         "type": "string"
        },
        {
         "name": "fuel",
         "rawType": "object",
         "type": "string"
        },
        {
         "name": "ABS",
         "rawType": "object",
         "type": "string"
        },
        {
         "name": "safety",
         "rawType": "object",
         "type": "string"
        }
       ],
       "conversionMethod": "pd.DataFrame",
       "ref": "e66f65d5-2f8a-4930-a725-cb0d343d7942",
       "rows": [
        [
         "0",
         "1",
         "4",
         "20m",
         "hyundai",
         "gas",
         "no",
         "4_stars"
        ],
        [
         "1",
         "2",
         "3",
         "22m",
         "hyundai",
         "diesel",
         "yes",
         "4_stars"
        ],
        [
         "2",
         "3",
         "16",
         "24m",
         "daewoo",
         "gas",
         "yes",
         "5_stars"
        ],
        [
         "3",
         "4",
         "15",
         "24m",
         "kia",
         "diesel",
         "no",
         "5_stars"
        ],
        [
         "4",
         "5",
         "5",
         "22m",
         "hyundai",
         "gas",
         "no",
         "5_stars"
        ]
       ],
       "shape": {
        "columns": 7,
        "rows": 5
       }
      },
      "text/html": [
       "<div>\n",
       "<style scoped>\n",
       "    .dataframe tbody tr th:only-of-type {\n",
       "        vertical-align: middle;\n",
       "    }\n",
       "\n",
       "    .dataframe tbody tr th {\n",
       "        vertical-align: top;\n",
       "    }\n",
       "\n",
       "    .dataframe thead th {\n",
       "        text-align: right;\n",
       "    }\n",
       "</style>\n",
       "<table border=\"1\" class=\"dataframe\">\n",
       "  <thead>\n",
       "    <tr style=\"text-align: right;\">\n",
       "      <th></th>\n",
       "      <th>index</th>\n",
       "      <th>rank</th>\n",
       "      <th>cost</th>\n",
       "      <th>brand</th>\n",
       "      <th>fuel</th>\n",
       "      <th>ABS</th>\n",
       "      <th>safety</th>\n",
       "    </tr>\n",
       "  </thead>\n",
       "  <tbody>\n",
       "    <tr>\n",
       "      <th>0</th>\n",
       "      <td>1</td>\n",
       "      <td>4</td>\n",
       "      <td>20m</td>\n",
       "      <td>hyundai</td>\n",
       "      <td>gas</td>\n",
       "      <td>no</td>\n",
       "      <td>4_stars</td>\n",
       "    </tr>\n",
       "    <tr>\n",
       "      <th>1</th>\n",
       "      <td>2</td>\n",
       "      <td>3</td>\n",
       "      <td>22m</td>\n",
       "      <td>hyundai</td>\n",
       "      <td>diesel</td>\n",
       "      <td>yes</td>\n",
       "      <td>4_stars</td>\n",
       "    </tr>\n",
       "    <tr>\n",
       "      <th>2</th>\n",
       "      <td>3</td>\n",
       "      <td>16</td>\n",
       "      <td>24m</td>\n",
       "      <td>daewoo</td>\n",
       "      <td>gas</td>\n",
       "      <td>yes</td>\n",
       "      <td>5_stars</td>\n",
       "    </tr>\n",
       "    <tr>\n",
       "      <th>3</th>\n",
       "      <td>4</td>\n",
       "      <td>15</td>\n",
       "      <td>24m</td>\n",
       "      <td>kia</td>\n",
       "      <td>diesel</td>\n",
       "      <td>no</td>\n",
       "      <td>5_stars</td>\n",
       "    </tr>\n",
       "    <tr>\n",
       "      <th>4</th>\n",
       "      <td>5</td>\n",
       "      <td>5</td>\n",
       "      <td>22m</td>\n",
       "      <td>hyundai</td>\n",
       "      <td>gas</td>\n",
       "      <td>no</td>\n",
       "      <td>5_stars</td>\n",
       "    </tr>\n",
       "  </tbody>\n",
       "</table>\n",
       "</div>"
      ],
      "text/plain": [
       "   index  rank cost    brand    fuel  ABS   safety\n",
       "0      1     4  20m  hyundai     gas   no  4_stars\n",
       "1      2     3  22m  hyundai  diesel  yes  4_stars\n",
       "2      3    16  24m   daewoo     gas  yes  5_stars\n",
       "3      4    15  24m      kia  diesel   no  5_stars\n",
       "4      5     5  22m  hyundai     gas   no  5_stars"
      ]
     },
     "execution_count": 1,
     "metadata": {},
     "output_type": "execute_result"
    }
   ],
   "source": [
    "import pandas as pd\n",
    "\n",
    "data = pd.read_csv('vehicle.csv')\n",
    "data.head(5)"
   ]
  },
  {
   "cell_type": "markdown",
   "metadata": {},
   "source": [
    "#### 더미회귀분석(dummy regression analysis)\n",
    "- 실제 시장 조사에서 개별 소비자마다 각 속성 수준에 대한 평균 효용 값을 구한다는 것은 매우 부담스러운 작업이다.\n",
    "- 이러한 불편함을 해소하기 위하여 더미회귀부석을 활용 -> 평균 효용 값을 쉽게 구한다."
   ]
  },
  {
   "cell_type": "code",
   "execution_count": 2,
   "metadata": {},
   "outputs": [
    {
     "data": {
      "application/vnd.microsoft.datawrangler.viewer.v0+json": {
       "columns": [
        {
         "name": "index",
         "rawType": "int64",
         "type": "integer"
        },
        {
         "name": "index",
         "rawType": "int64",
         "type": "integer"
        },
        {
         "name": "rank",
         "rawType": "int64",
         "type": "integer"
        },
        {
         "name": "cost_20m",
         "rawType": "bool",
         "type": "boolean"
        },
        {
         "name": "cost_22m",
         "rawType": "bool",
         "type": "boolean"
        },
        {
         "name": "cost_24m",
         "rawType": "bool",
         "type": "boolean"
        },
        {
         "name": "brand_daewoo",
         "rawType": "bool",
         "type": "boolean"
        },
        {
         "name": "brand_hyundai",
         "rawType": "bool",
         "type": "boolean"
        },
        {
         "name": "brand_kia",
         "rawType": "bool",
         "type": "boolean"
        },
        {
         "name": "fuel_diesel",
         "rawType": "bool",
         "type": "boolean"
        },
        {
         "name": "fuel_gas",
         "rawType": "bool",
         "type": "boolean"
        },
        {
         "name": "ABS_no",
         "rawType": "bool",
         "type": "boolean"
        },
        {
         "name": "ABS_yes",
         "rawType": "bool",
         "type": "boolean"
        },
        {
         "name": "safety_4_stars",
         "rawType": "bool",
         "type": "boolean"
        },
        {
         "name": "safety_5_stars",
         "rawType": "bool",
         "type": "boolean"
        }
       ],
       "conversionMethod": "pd.DataFrame",
       "ref": "581a9202-eec8-4482-b54b-adaa6bbc7c7f",
       "rows": [
        [
         "0",
         "1",
         "4",
         "True",
         "False",
         "False",
         "False",
         "True",
         "False",
         "False",
         "True",
         "True",
         "False",
         "True",
         "False"
        ],
        [
         "1",
         "2",
         "3",
         "False",
         "True",
         "False",
         "False",
         "True",
         "False",
         "True",
         "False",
         "False",
         "True",
         "True",
         "False"
        ],
        [
         "2",
         "3",
         "16",
         "False",
         "False",
         "True",
         "True",
         "False",
         "False",
         "False",
         "True",
         "False",
         "True",
         "False",
         "True"
        ],
        [
         "3",
         "4",
         "15",
         "False",
         "False",
         "True",
         "False",
         "False",
         "True",
         "True",
         "False",
         "True",
         "False",
         "False",
         "True"
        ],
        [
         "4",
         "5",
         "5",
         "False",
         "True",
         "False",
         "False",
         "True",
         "False",
         "False",
         "True",
         "True",
         "False",
         "False",
         "True"
        ]
       ],
       "shape": {
        "columns": 14,
        "rows": 5
       }
      },
      "text/html": [
       "<div>\n",
       "<style scoped>\n",
       "    .dataframe tbody tr th:only-of-type {\n",
       "        vertical-align: middle;\n",
       "    }\n",
       "\n",
       "    .dataframe tbody tr th {\n",
       "        vertical-align: top;\n",
       "    }\n",
       "\n",
       "    .dataframe thead th {\n",
       "        text-align: right;\n",
       "    }\n",
       "</style>\n",
       "<table border=\"1\" class=\"dataframe\">\n",
       "  <thead>\n",
       "    <tr style=\"text-align: right;\">\n",
       "      <th></th>\n",
       "      <th>index</th>\n",
       "      <th>rank</th>\n",
       "      <th>cost_20m</th>\n",
       "      <th>cost_22m</th>\n",
       "      <th>cost_24m</th>\n",
       "      <th>brand_daewoo</th>\n",
       "      <th>brand_hyundai</th>\n",
       "      <th>brand_kia</th>\n",
       "      <th>fuel_diesel</th>\n",
       "      <th>fuel_gas</th>\n",
       "      <th>ABS_no</th>\n",
       "      <th>ABS_yes</th>\n",
       "      <th>safety_4_stars</th>\n",
       "      <th>safety_5_stars</th>\n",
       "    </tr>\n",
       "  </thead>\n",
       "  <tbody>\n",
       "    <tr>\n",
       "      <th>0</th>\n",
       "      <td>1</td>\n",
       "      <td>4</td>\n",
       "      <td>True</td>\n",
       "      <td>False</td>\n",
       "      <td>False</td>\n",
       "      <td>False</td>\n",
       "      <td>True</td>\n",
       "      <td>False</td>\n",
       "      <td>False</td>\n",
       "      <td>True</td>\n",
       "      <td>True</td>\n",
       "      <td>False</td>\n",
       "      <td>True</td>\n",
       "      <td>False</td>\n",
       "    </tr>\n",
       "    <tr>\n",
       "      <th>1</th>\n",
       "      <td>2</td>\n",
       "      <td>3</td>\n",
       "      <td>False</td>\n",
       "      <td>True</td>\n",
       "      <td>False</td>\n",
       "      <td>False</td>\n",
       "      <td>True</td>\n",
       "      <td>False</td>\n",
       "      <td>True</td>\n",
       "      <td>False</td>\n",
       "      <td>False</td>\n",
       "      <td>True</td>\n",
       "      <td>True</td>\n",
       "      <td>False</td>\n",
       "    </tr>\n",
       "    <tr>\n",
       "      <th>2</th>\n",
       "      <td>3</td>\n",
       "      <td>16</td>\n",
       "      <td>False</td>\n",
       "      <td>False</td>\n",
       "      <td>True</td>\n",
       "      <td>True</td>\n",
       "      <td>False</td>\n",
       "      <td>False</td>\n",
       "      <td>False</td>\n",
       "      <td>True</td>\n",
       "      <td>False</td>\n",
       "      <td>True</td>\n",
       "      <td>False</td>\n",
       "      <td>True</td>\n",
       "    </tr>\n",
       "    <tr>\n",
       "      <th>3</th>\n",
       "      <td>4</td>\n",
       "      <td>15</td>\n",
       "      <td>False</td>\n",
       "      <td>False</td>\n",
       "      <td>True</td>\n",
       "      <td>False</td>\n",
       "      <td>False</td>\n",
       "      <td>True</td>\n",
       "      <td>True</td>\n",
       "      <td>False</td>\n",
       "      <td>True</td>\n",
       "      <td>False</td>\n",
       "      <td>False</td>\n",
       "      <td>True</td>\n",
       "    </tr>\n",
       "    <tr>\n",
       "      <th>4</th>\n",
       "      <td>5</td>\n",
       "      <td>5</td>\n",
       "      <td>False</td>\n",
       "      <td>True</td>\n",
       "      <td>False</td>\n",
       "      <td>False</td>\n",
       "      <td>True</td>\n",
       "      <td>False</td>\n",
       "      <td>False</td>\n",
       "      <td>True</td>\n",
       "      <td>True</td>\n",
       "      <td>False</td>\n",
       "      <td>False</td>\n",
       "      <td>True</td>\n",
       "    </tr>\n",
       "  </tbody>\n",
       "</table>\n",
       "</div>"
      ],
      "text/plain": [
       "   index  rank  cost_20m  cost_22m  cost_24m  brand_daewoo  brand_hyundai  \\\n",
       "0      1     4      True     False     False         False           True   \n",
       "1      2     3     False      True     False         False           True   \n",
       "2      3    16     False     False      True          True          False   \n",
       "3      4    15     False     False      True         False          False   \n",
       "4      5     5     False      True     False         False           True   \n",
       "\n",
       "   brand_kia  fuel_diesel  fuel_gas  ABS_no  ABS_yes  safety_4_stars  \\\n",
       "0      False        False      True    True    False            True   \n",
       "1      False         True     False   False     True            True   \n",
       "2      False        False      True   False     True           False   \n",
       "3       True         True     False    True    False           False   \n",
       "4      False        False      True    True    False           False   \n",
       "\n",
       "   safety_5_stars  \n",
       "0           False  \n",
       "1           False  \n",
       "2            True  \n",
       "3            True  \n",
       "4            True  "
      ]
     },
     "execution_count": 2,
     "metadata": {},
     "output_type": "execute_result"
    }
   ],
   "source": [
    "data_dummy = pd.get_dummies(data, columns=['cost', 'brand', 'fuel', 'ABS', 'safety'])\n",
    "data_dummy.head(5)"
   ]
  },
  {
   "cell_type": "code",
   "execution_count": 3,
   "metadata": {},
   "outputs": [],
   "source": [
    "import statsmodels.api as sm\n",
    "# from statsmodels.formula.api import ols\n",
    "from statsmodels.genmod.families import Binomial\n",
    "from statsmodels.genmod.families.links import logit\n",
    "\n",
    "X = data_dummy.drop(['rank', 'index'], axis=1)\n",
    "y = -data_dummy['rank']    # 종속 변수의 부호를 마이너스(-)로 변경 : 중요도가 클 수록 Coefficient가 큰 양수가 되도록"
   ]
  },
  {
   "cell_type": "code",
   "execution_count": 4,
   "metadata": {},
   "outputs": [],
   "source": [
    "# X\n",
    "# y"
   ]
  },
  {
   "cell_type": "code",
   "execution_count": 5,
   "metadata": {},
   "outputs": [
    {
     "name": "stderr",
     "output_type": "stream",
     "text": [
      "c:\\Users\\wonta\\anaconda3\\Lib\\site-packages\\scipy\\stats\\_axis_nan_policy.py:430: UserWarning: `kurtosistest` p-value may be inaccurate with fewer than 20 observations; only n=18 observations were given.\n",
      "  return hypotest_fun_in(*args, **kwds)\n"
     ]
    },
    {
     "data": {
      "text/html": [
       "<table class=\"simpletable\">\n",
       "<caption>OLS Regression Results</caption>\n",
       "<tr>\n",
       "  <th>Dep. Variable:</th>          <td>rank</td>       <th>  R-squared:         </th> <td>   0.936</td>\n",
       "</tr>\n",
       "<tr>\n",
       "  <th>Model:</th>                   <td>OLS</td>       <th>  Adj. R-squared:    </th> <td>   0.892</td>\n",
       "</tr>\n",
       "<tr>\n",
       "  <th>Method:</th>             <td>Least Squares</td>  <th>  F-statistic:       </th> <td>   21.04</td>\n",
       "</tr>\n",
       "<tr>\n",
       "  <th>Date:</th>             <td>Sun, 16 Mar 2025</td> <th>  Prob (F-statistic):</th> <td>3.19e-05</td>\n",
       "</tr>\n",
       "<tr>\n",
       "  <th>Time:</th>                 <td>18:06:03</td>     <th>  Log-Likelihood:    </th> <td> -30.377</td>\n",
       "</tr>\n",
       "<tr>\n",
       "  <th>No. Observations:</th>      <td>    18</td>      <th>  AIC:               </th> <td>   76.75</td>\n",
       "</tr>\n",
       "<tr>\n",
       "  <th>Df Residuals:</th>          <td>    10</td>      <th>  BIC:               </th> <td>   83.88</td>\n",
       "</tr>\n",
       "<tr>\n",
       "  <th>Df Model:</th>              <td>     7</td>      <th>                     </th>     <td> </td>   \n",
       "</tr>\n",
       "<tr>\n",
       "  <th>Covariance Type:</th>      <td>nonrobust</td>    <th>                     </th>     <td> </td>   \n",
       "</tr>\n",
       "</table>\n",
       "<table class=\"simpletable\">\n",
       "<tr>\n",
       "         <td></td>           <th>coef</th>     <th>std err</th>      <th>t</th>      <th>P>|t|</th>  <th>[0.025</th>    <th>0.975]</th>  \n",
       "</tr>\n",
       "<tr>\n",
       "  <th>cost_20m</th>       <td>    1.6143</td> <td>    0.595</td> <td>    2.715</td> <td> 0.022</td> <td>    0.289</td> <td>    2.939</td>\n",
       "</tr>\n",
       "<tr>\n",
       "  <th>cost_22m</th>       <td>   -1.2885</td> <td>    0.593</td> <td>   -2.172</td> <td> 0.055</td> <td>   -2.610</td> <td>    0.033</td>\n",
       "</tr>\n",
       "<tr>\n",
       "  <th>cost_24m</th>       <td>   -4.4551</td> <td>    0.593</td> <td>   -7.510</td> <td> 0.000</td> <td>   -5.777</td> <td>   -3.133</td>\n",
       "</tr>\n",
       "<tr>\n",
       "  <th>brand_daewoo</th>   <td>   -6.4551</td> <td>    0.593</td> <td>  -10.882</td> <td> 0.000</td> <td>   -7.777</td> <td>   -5.133</td>\n",
       "</tr>\n",
       "<tr>\n",
       "  <th>brand_hyundai</th>  <td>    3.6143</td> <td>    0.595</td> <td>    6.079</td> <td> 0.000</td> <td>    2.289</td> <td>    4.939</td>\n",
       "</tr>\n",
       "<tr>\n",
       "  <th>brand_kia</th>      <td>   -1.2885</td> <td>    0.593</td> <td>   -2.172</td> <td> 0.055</td> <td>   -2.610</td> <td>    0.033</td>\n",
       "</tr>\n",
       "<tr>\n",
       "  <th>fuel_diesel</th>    <td>   -1.6237</td> <td>    0.488</td> <td>   -3.330</td> <td> 0.008</td> <td>   -2.710</td> <td>   -0.537</td>\n",
       "</tr>\n",
       "<tr>\n",
       "  <th>fuel_gas</th>       <td>   -2.5056</td> <td>    0.418</td> <td>   -6.000</td> <td> 0.000</td> <td>   -3.436</td> <td>   -1.575</td>\n",
       "</tr>\n",
       "<tr>\n",
       "  <th>ABS_no</th>         <td>   -3.7556</td> <td>    0.418</td> <td>   -8.994</td> <td> 0.000</td> <td>   -4.686</td> <td>   -2.825</td>\n",
       "</tr>\n",
       "<tr>\n",
       "  <th>ABS_yes</th>        <td>   -0.3737</td> <td>    0.488</td> <td>   -0.766</td> <td> 0.461</td> <td>   -1.460</td> <td>    0.713</td>\n",
       "</tr>\n",
       "<tr>\n",
       "  <th>safety_4_stars</th> <td>   -2.7730</td> <td>    0.479</td> <td>   -5.790</td> <td> 0.000</td> <td>   -3.840</td> <td>   -1.706</td>\n",
       "</tr>\n",
       "<tr>\n",
       "  <th>safety_5_stars</th> <td>   -1.3563</td> <td>    0.424</td> <td>   -3.197</td> <td> 0.010</td> <td>   -2.302</td> <td>   -0.411</td>\n",
       "</tr>\n",
       "</table>\n",
       "<table class=\"simpletable\">\n",
       "<tr>\n",
       "  <th>Omnibus:</th>       <td> 0.608</td> <th>  Durbin-Watson:     </th> <td>   1.762</td>\n",
       "</tr>\n",
       "<tr>\n",
       "  <th>Prob(Omnibus):</th> <td> 0.738</td> <th>  Jarque-Bera (JB):  </th> <td>   0.636</td>\n",
       "</tr>\n",
       "<tr>\n",
       "  <th>Skew:</th>          <td>-0.183</td> <th>  Prob(JB):          </th> <td>   0.728</td>\n",
       "</tr>\n",
       "<tr>\n",
       "  <th>Kurtosis:</th>      <td> 2.155</td> <th>  Cond. No.          </th> <td>3.93e+16</td>\n",
       "</tr>\n",
       "</table><br/><br/>Notes:<br/>[1] Standard Errors assume that the covariance matrix of the errors is correctly specified.<br/>[2] The smallest eigenvalue is 2.72e-32. This might indicate that there are<br/>strong multicollinearity problems or that the design matrix is singular."
      ],
      "text/latex": [
       "\\begin{center}\n",
       "\\begin{tabular}{lclc}\n",
       "\\toprule\n",
       "\\textbf{Dep. Variable:}    &       rank       & \\textbf{  R-squared:         } &     0.936   \\\\\n",
       "\\textbf{Model:}            &       OLS        & \\textbf{  Adj. R-squared:    } &     0.892   \\\\\n",
       "\\textbf{Method:}           &  Least Squares   & \\textbf{  F-statistic:       } &     21.04   \\\\\n",
       "\\textbf{Date:}             & Sun, 16 Mar 2025 & \\textbf{  Prob (F-statistic):} &  3.19e-05   \\\\\n",
       "\\textbf{Time:}             &     18:06:03     & \\textbf{  Log-Likelihood:    } &   -30.377   \\\\\n",
       "\\textbf{No. Observations:} &          18      & \\textbf{  AIC:               } &     76.75   \\\\\n",
       "\\textbf{Df Residuals:}     &          10      & \\textbf{  BIC:               } &     83.88   \\\\\n",
       "\\textbf{Df Model:}         &           7      & \\textbf{                     } &             \\\\\n",
       "\\textbf{Covariance Type:}  &    nonrobust     & \\textbf{                     } &             \\\\\n",
       "\\bottomrule\n",
       "\\end{tabular}\n",
       "\\begin{tabular}{lcccccc}\n",
       "                          & \\textbf{coef} & \\textbf{std err} & \\textbf{t} & \\textbf{P$> |$t$|$} & \\textbf{[0.025} & \\textbf{0.975]}  \\\\\n",
       "\\midrule\n",
       "\\textbf{cost\\_20m}        &       1.6143  &        0.595     &     2.715  &         0.022        &        0.289    &        2.939     \\\\\n",
       "\\textbf{cost\\_22m}        &      -1.2885  &        0.593     &    -2.172  &         0.055        &       -2.610    &        0.033     \\\\\n",
       "\\textbf{cost\\_24m}        &      -4.4551  &        0.593     &    -7.510  &         0.000        &       -5.777    &       -3.133     \\\\\n",
       "\\textbf{brand\\_daewoo}    &      -6.4551  &        0.593     &   -10.882  &         0.000        &       -7.777    &       -5.133     \\\\\n",
       "\\textbf{brand\\_hyundai}   &       3.6143  &        0.595     &     6.079  &         0.000        &        2.289    &        4.939     \\\\\n",
       "\\textbf{brand\\_kia}       &      -1.2885  &        0.593     &    -2.172  &         0.055        &       -2.610    &        0.033     \\\\\n",
       "\\textbf{fuel\\_diesel}     &      -1.6237  &        0.488     &    -3.330  &         0.008        &       -2.710    &       -0.537     \\\\\n",
       "\\textbf{fuel\\_gas}        &      -2.5056  &        0.418     &    -6.000  &         0.000        &       -3.436    &       -1.575     \\\\\n",
       "\\textbf{ABS\\_no}          &      -3.7556  &        0.418     &    -8.994  &         0.000        &       -4.686    &       -2.825     \\\\\n",
       "\\textbf{ABS\\_yes}         &      -0.3737  &        0.488     &    -0.766  &         0.461        &       -1.460    &        0.713     \\\\\n",
       "\\textbf{safety\\_4\\_stars} &      -2.7730  &        0.479     &    -5.790  &         0.000        &       -3.840    &       -1.706     \\\\\n",
       "\\textbf{safety\\_5\\_stars} &      -1.3563  &        0.424     &    -3.197  &         0.010        &       -2.302    &       -0.411     \\\\\n",
       "\\bottomrule\n",
       "\\end{tabular}\n",
       "\\begin{tabular}{lclc}\n",
       "\\textbf{Omnibus:}       &  0.608 & \\textbf{  Durbin-Watson:     } &    1.762  \\\\\n",
       "\\textbf{Prob(Omnibus):} &  0.738 & \\textbf{  Jarque-Bera (JB):  } &    0.636  \\\\\n",
       "\\textbf{Skew:}          & -0.183 & \\textbf{  Prob(JB):          } &    0.728  \\\\\n",
       "\\textbf{Kurtosis:}      &  2.155 & \\textbf{  Cond. No.          } & 3.93e+16  \\\\\n",
       "\\bottomrule\n",
       "\\end{tabular}\n",
       "%\\caption{OLS Regression Results}\n",
       "\\end{center}\n",
       "\n",
       "Notes: \\newline\n",
       " [1] Standard Errors assume that the covariance matrix of the errors is correctly specified. \\newline\n",
       " [2] The smallest eigenvalue is 2.72e-32. This might indicate that there are \\newline\n",
       " strong multicollinearity problems or that the design matrix is singular."
      ],
      "text/plain": [
       "<class 'statsmodels.iolib.summary.Summary'>\n",
       "\"\"\"\n",
       "                            OLS Regression Results                            \n",
       "==============================================================================\n",
       "Dep. Variable:                   rank   R-squared:                       0.936\n",
       "Model:                            OLS   Adj. R-squared:                  0.892\n",
       "Method:                 Least Squares   F-statistic:                     21.04\n",
       "Date:                Sun, 16 Mar 2025   Prob (F-statistic):           3.19e-05\n",
       "Time:                        18:06:03   Log-Likelihood:                -30.377\n",
       "No. Observations:                  18   AIC:                             76.75\n",
       "Df Residuals:                      10   BIC:                             83.88\n",
       "Df Model:                           7                                         \n",
       "Covariance Type:            nonrobust                                         \n",
       "==================================================================================\n",
       "                     coef    std err          t      P>|t|      [0.025      0.975]\n",
       "----------------------------------------------------------------------------------\n",
       "cost_20m           1.6143      0.595      2.715      0.022       0.289       2.939\n",
       "cost_22m          -1.2885      0.593     -2.172      0.055      -2.610       0.033\n",
       "cost_24m          -4.4551      0.593     -7.510      0.000      -5.777      -3.133\n",
       "brand_daewoo      -6.4551      0.593    -10.882      0.000      -7.777      -5.133\n",
       "brand_hyundai      3.6143      0.595      6.079      0.000       2.289       4.939\n",
       "brand_kia         -1.2885      0.593     -2.172      0.055      -2.610       0.033\n",
       "fuel_diesel       -1.6237      0.488     -3.330      0.008      -2.710      -0.537\n",
       "fuel_gas          -2.5056      0.418     -6.000      0.000      -3.436      -1.575\n",
       "ABS_no            -3.7556      0.418     -8.994      0.000      -4.686      -2.825\n",
       "ABS_yes           -0.3737      0.488     -0.766      0.461      -1.460       0.713\n",
       "safety_4_stars    -2.7730      0.479     -5.790      0.000      -3.840      -1.706\n",
       "safety_5_stars    -1.3563      0.424     -3.197      0.010      -2.302      -0.411\n",
       "==============================================================================\n",
       "Omnibus:                        0.608   Durbin-Watson:                   1.762\n",
       "Prob(Omnibus):                  0.738   Jarque-Bera (JB):                0.636\n",
       "Skew:                          -0.183   Prob(JB):                        0.728\n",
       "Kurtosis:                       2.155   Cond. No.                     3.93e+16\n",
       "==============================================================================\n",
       "\n",
       "Notes:\n",
       "[1] Standard Errors assume that the covariance matrix of the errors is correctly specified.\n",
       "[2] The smallest eigenvalue is 2.72e-32. This might indicate that there are\n",
       "strong multicollinearity problems or that the design matrix is singular.\n",
       "\"\"\""
      ]
     },
     "execution_count": 5,
     "metadata": {},
     "output_type": "execute_result"
    }
   ],
   "source": [
    "# 에러 발생 (250313) \n",
    "\n",
    "linearRegression = sm.OLS(y, X)\n",
    "res = linearRegression.fit()\n",
    "res.summary()"
   ]
  },
  {
   "cell_type": "markdown",
   "metadata": {},
   "source": [
    "#### 회귀분석을 통한 부분 효용 추정 결과\n",
    "- 회귀분석에서 다중공선성(multicollinearity) 문제를 피하기 위해 각 속성마다 1개의 속성 자료를 제거하여 입력자료로 만든다.\n",
    "- ['cost_24m', 'brand_kia', 'fuel_gas', 'ABS_no', 'safety_4_stars'] 컬럼을 삭제하고 다시 더미회귀분석 실행한다."
   ]
  },
  {
   "cell_type": "code",
   "execution_count": 6,
   "metadata": {},
   "outputs": [],
   "source": [
    "# data_dummy_col = data_dummy.drop(['cost_24m', 'brand_kia', 'fuel_gas', 'ABS_no', 'safety_4_stars'], axis=1)\n",
    "# data_dummy_col.head(5)"
   ]
  },
  {
   "cell_type": "code",
   "execution_count": 7,
   "metadata": {},
   "outputs": [],
   "source": [
    "\n",
    "# X = data_dummy_col.drop(['rank', 'index'], axis=1)\n",
    "# y = -data_dummy_col['rank']    # 종속 변수의 부호를 마이너스(-)로 변경 : 중요도가 클 수록 Coefficient가 큰 양수가 되도록\n",
    "\n",
    "# linearRegression = sm.OLS(y, X)\n",
    "# res = linearRegression.fit()\n",
    "# res.summary()"
   ]
  },
  {
   "cell_type": "code",
   "execution_count": 8,
   "metadata": {},
   "outputs": [],
   "source": [
    "# 참고 문헌\n",
    "# 1) 컨조인트 분석을 이용한 최적 상품 설계 분석방법과 적용 사례, 2006\n",
    "# 2) 파이썬 비즈니스 통계 분석 -  15장 컨조인트 분석, 김형수 저"
   ]
  },
  {
   "cell_type": "markdown",
   "metadata": {},
   "source": [
    "#### 평균 효용값의 비교\n",
    "\n",
    "- coef 값이 클 수록 선호도가 높은 것을 나타낸다 : -y 값으로 계산 참조\n",
    "- 소비자에게 가장 이상적인 자동차 : \"brand_hyundai\" + \"cost_20m\" + \"\"fuel_diesel\" + \"ABS_yes\" + \"safety_5\""
   ]
  },
  {
   "cell_type": "markdown",
   "metadata": {},
   "source": [
    "#### 부분 가치(Part Worth)\n",
    "- 컨조인트 분석 : 어떤 제품이나 서비스, 매장 등에 대해서 여러가지 대안을 만들었을 때, 그 대안들에 부여하는 소비자들의 선호도를 측정하여 \n",
    "- 소비자가 각 속성(attribute)에 부여하는 상대적 중요도(relative importance)와\n",
    "- 각 속성 수준의 효용(utility), 부분 가치(part worth)를 추정하는 분석 방법"
   ]
  },
  {
   "cell_type": "code",
   "execution_count": 9,
   "metadata": {},
   "outputs": [
    {
     "data": {
      "application/vnd.microsoft.datawrangler.viewer.v0+json": {
       "columns": [
        {
         "name": "index",
         "rawType": "object",
         "type": "string"
        },
        {
         "name": "param_name",
         "rawType": "object",
         "type": "string"
        },
        {
         "name": "param_w",
         "rawType": "float64",
         "type": "float"
        },
        {
         "name": "pval",
         "rawType": "float64",
         "type": "float"
        }
       ],
       "conversionMethod": "pd.DataFrame",
       "ref": "8d8214c0-e7b3-4a6d-9265-a92517aa68f4",
       "rows": [
        [
         "cost_20m",
         "cost_20m",
         "1.61431623931624",
         "0.021747709787061115"
        ],
        [
         "cost_22m",
         "cost_22m",
         "-1.2884615384615374",
         "0.054984173217455364"
        ],
        [
         "cost_24m",
         "cost_24m",
         "-4.455128205128204",
         "2.0389317200921417e-05"
        ],
        [
         "brand_daewoo",
         "brand_daewoo",
         "-6.455128205128208",
         "7.289770577746175e-07"
        ],
        [
         "brand_hyundai",
         "brand_hyundai",
         "3.614316239316239",
         "0.00011901854880559794"
        ],
        [
         "brand_kia",
         "brand_kia",
         "-1.288461538461539",
         "0.05498417321745516"
        ],
        [
         "fuel_diesel",
         "fuel_diesel",
         "-1.6236645299145285",
         "0.007617164500948036"
        ],
        [
         "fuel_gas",
         "fuel_gas",
         "-2.5056089743589824",
         "0.00013206879173243522"
        ],
        [
         "ABS_no",
         "ABS_no",
         "-3.7556089743589727",
         "4.164493971681652e-06"
        ],
        [
         "ABS_yes",
         "ABS_yes",
         "-0.37366452991453813",
         "0.46116569699113485"
        ],
        [
         "safety_4_stars",
         "safety_4_stars",
         "-2.772970085470085",
         "0.0001754320971471724"
        ],
        [
         "safety_5_stars",
         "safety_5_stars",
         "-1.356303418803423",
         "0.009547725783967542"
        ]
       ],
       "shape": {
        "columns": 3,
        "rows": 12
       }
      },
      "text/html": [
       "<div>\n",
       "<style scoped>\n",
       "    .dataframe tbody tr th:only-of-type {\n",
       "        vertical-align: middle;\n",
       "    }\n",
       "\n",
       "    .dataframe tbody tr th {\n",
       "        vertical-align: top;\n",
       "    }\n",
       "\n",
       "    .dataframe thead th {\n",
       "        text-align: right;\n",
       "    }\n",
       "</style>\n",
       "<table border=\"1\" class=\"dataframe\">\n",
       "  <thead>\n",
       "    <tr style=\"text-align: right;\">\n",
       "      <th></th>\n",
       "      <th>param_name</th>\n",
       "      <th>param_w</th>\n",
       "      <th>pval</th>\n",
       "    </tr>\n",
       "  </thead>\n",
       "  <tbody>\n",
       "    <tr>\n",
       "      <th>cost_20m</th>\n",
       "      <td>cost_20m</td>\n",
       "      <td>1.614316</td>\n",
       "      <td>2.174771e-02</td>\n",
       "    </tr>\n",
       "    <tr>\n",
       "      <th>cost_22m</th>\n",
       "      <td>cost_22m</td>\n",
       "      <td>-1.288462</td>\n",
       "      <td>5.498417e-02</td>\n",
       "    </tr>\n",
       "    <tr>\n",
       "      <th>cost_24m</th>\n",
       "      <td>cost_24m</td>\n",
       "      <td>-4.455128</td>\n",
       "      <td>2.038932e-05</td>\n",
       "    </tr>\n",
       "    <tr>\n",
       "      <th>brand_daewoo</th>\n",
       "      <td>brand_daewoo</td>\n",
       "      <td>-6.455128</td>\n",
       "      <td>7.289771e-07</td>\n",
       "    </tr>\n",
       "    <tr>\n",
       "      <th>brand_hyundai</th>\n",
       "      <td>brand_hyundai</td>\n",
       "      <td>3.614316</td>\n",
       "      <td>1.190185e-04</td>\n",
       "    </tr>\n",
       "    <tr>\n",
       "      <th>brand_kia</th>\n",
       "      <td>brand_kia</td>\n",
       "      <td>-1.288462</td>\n",
       "      <td>5.498417e-02</td>\n",
       "    </tr>\n",
       "    <tr>\n",
       "      <th>fuel_diesel</th>\n",
       "      <td>fuel_diesel</td>\n",
       "      <td>-1.623665</td>\n",
       "      <td>7.617165e-03</td>\n",
       "    </tr>\n",
       "    <tr>\n",
       "      <th>fuel_gas</th>\n",
       "      <td>fuel_gas</td>\n",
       "      <td>-2.505609</td>\n",
       "      <td>1.320688e-04</td>\n",
       "    </tr>\n",
       "    <tr>\n",
       "      <th>ABS_no</th>\n",
       "      <td>ABS_no</td>\n",
       "      <td>-3.755609</td>\n",
       "      <td>4.164494e-06</td>\n",
       "    </tr>\n",
       "    <tr>\n",
       "      <th>ABS_yes</th>\n",
       "      <td>ABS_yes</td>\n",
       "      <td>-0.373665</td>\n",
       "      <td>4.611657e-01</td>\n",
       "    </tr>\n",
       "    <tr>\n",
       "      <th>safety_4_stars</th>\n",
       "      <td>safety_4_stars</td>\n",
       "      <td>-2.772970</td>\n",
       "      <td>1.754321e-04</td>\n",
       "    </tr>\n",
       "    <tr>\n",
       "      <th>safety_5_stars</th>\n",
       "      <td>safety_5_stars</td>\n",
       "      <td>-1.356303</td>\n",
       "      <td>9.547726e-03</td>\n",
       "    </tr>\n",
       "  </tbody>\n",
       "</table>\n",
       "</div>"
      ],
      "text/plain": [
       "                    param_name   param_w          pval\n",
       "cost_20m              cost_20m  1.614316  2.174771e-02\n",
       "cost_22m              cost_22m -1.288462  5.498417e-02\n",
       "cost_24m              cost_24m -4.455128  2.038932e-05\n",
       "brand_daewoo      brand_daewoo -6.455128  7.289771e-07\n",
       "brand_hyundai    brand_hyundai  3.614316  1.190185e-04\n",
       "brand_kia            brand_kia -1.288462  5.498417e-02\n",
       "fuel_diesel        fuel_diesel -1.623665  7.617165e-03\n",
       "fuel_gas              fuel_gas -2.505609  1.320688e-04\n",
       "ABS_no                  ABS_no -3.755609  4.164494e-06\n",
       "ABS_yes                ABS_yes -0.373665  4.611657e-01\n",
       "safety_4_stars  safety_4_stars -2.772970  1.754321e-04\n",
       "safety_5_stars  safety_5_stars -1.356303  9.547726e-03"
      ]
     },
     "execution_count": 9,
     "metadata": {},
     "output_type": "execute_result"
    }
   ],
   "source": [
    "import numpy as np\n",
    "\n",
    "# 선형회귀 결과 값 추출\n",
    "df_res = pd.DataFrame({'param_name': res.params.keys(),   # 파라미터 이름\n",
    "                       'param_w': res.params.values,      # 가중치\n",
    "                       'pval': res.pvalues})              # p-value\n",
    "\n",
    "df_res"
   ]
  },
  {
   "cell_type": "code",
   "execution_count": 10,
   "metadata": {},
   "outputs": [],
   "source": [
    "# Adding field for absolute of parameters\n",
    "df_res['abs_param_w'] = np.abs(df_res['param_w'])\n",
    "\n",
    "# Marking field is significant under 95% confidence interval : p-value < 0.05 여부\n",
    "df_res['is_sig_95'] = (df_res['pval'] < 0.05)\n",
    "\n",
    "# constructing color naming for each param\n",
    "df_res['color'] = ['blue' if x else 'red' for x in df_res['is_sig_95']]\n",
    "\n",
    "# make it sorted by abs of parameter value\n",
    "df_res =df_res.sort_values(by='abs_param_w', ascending=True)\n",
    "\n",
    "# 깔떼기 모양의 그래프를 그리기 위하여 : 절대 값을 내림차순으로 정리리\n"
   ]
  },
  {
   "cell_type": "code",
   "execution_count": 11,
   "metadata": {},
   "outputs": [
    {
     "data": {
      "application/vnd.microsoft.datawrangler.viewer.v0+json": {
       "columns": [
        {
         "name": "index",
         "rawType": "object",
         "type": "string"
        },
        {
         "name": "param_name",
         "rawType": "object",
         "type": "string"
        },
        {
         "name": "param_w",
         "rawType": "float64",
         "type": "float"
        },
        {
         "name": "pval",
         "rawType": "float64",
         "type": "float"
        },
        {
         "name": "abs_param_w",
         "rawType": "float64",
         "type": "float"
        },
        {
         "name": "is_sig_95",
         "rawType": "bool",
         "type": "boolean"
        },
        {
         "name": "color",
         "rawType": "object",
         "type": "string"
        }
       ],
       "conversionMethod": "pd.DataFrame",
       "ref": "31540120-ac4a-4469-b079-99314de7d2e3",
       "rows": [
        [
         "ABS_yes",
         "ABS_yes",
         "-0.37366452991453813",
         "0.46116569699113485",
         "0.37366452991453813",
         "False",
         "red"
        ],
        [
         "cost_22m",
         "cost_22m",
         "-1.2884615384615374",
         "0.054984173217455364",
         "1.2884615384615374",
         "False",
         "red"
        ],
        [
         "brand_kia",
         "brand_kia",
         "-1.288461538461539",
         "0.05498417321745516",
         "1.288461538461539",
         "False",
         "red"
        ],
        [
         "safety_5_stars",
         "safety_5_stars",
         "-1.356303418803423",
         "0.009547725783967542",
         "1.356303418803423",
         "True",
         "blue"
        ],
        [
         "cost_20m",
         "cost_20m",
         "1.61431623931624",
         "0.021747709787061115",
         "1.61431623931624",
         "True",
         "blue"
        ],
        [
         "fuel_diesel",
         "fuel_diesel",
         "-1.6236645299145285",
         "0.007617164500948036",
         "1.6236645299145285",
         "True",
         "blue"
        ],
        [
         "fuel_gas",
         "fuel_gas",
         "-2.5056089743589824",
         "0.00013206879173243522",
         "2.5056089743589824",
         "True",
         "blue"
        ],
        [
         "safety_4_stars",
         "safety_4_stars",
         "-2.772970085470085",
         "0.0001754320971471724",
         "2.772970085470085",
         "True",
         "blue"
        ],
        [
         "brand_hyundai",
         "brand_hyundai",
         "3.614316239316239",
         "0.00011901854880559794",
         "3.614316239316239",
         "True",
         "blue"
        ],
        [
         "ABS_no",
         "ABS_no",
         "-3.7556089743589727",
         "4.164493971681652e-06",
         "3.7556089743589727",
         "True",
         "blue"
        ],
        [
         "cost_24m",
         "cost_24m",
         "-4.455128205128204",
         "2.0389317200921417e-05",
         "4.455128205128204",
         "True",
         "blue"
        ],
        [
         "brand_daewoo",
         "brand_daewoo",
         "-6.455128205128208",
         "7.289770577746175e-07",
         "6.455128205128208",
         "True",
         "blue"
        ]
       ],
       "shape": {
        "columns": 6,
        "rows": 12
       }
      },
      "text/html": [
       "<div>\n",
       "<style scoped>\n",
       "    .dataframe tbody tr th:only-of-type {\n",
       "        vertical-align: middle;\n",
       "    }\n",
       "\n",
       "    .dataframe tbody tr th {\n",
       "        vertical-align: top;\n",
       "    }\n",
       "\n",
       "    .dataframe thead th {\n",
       "        text-align: right;\n",
       "    }\n",
       "</style>\n",
       "<table border=\"1\" class=\"dataframe\">\n",
       "  <thead>\n",
       "    <tr style=\"text-align: right;\">\n",
       "      <th></th>\n",
       "      <th>param_name</th>\n",
       "      <th>param_w</th>\n",
       "      <th>pval</th>\n",
       "      <th>abs_param_w</th>\n",
       "      <th>is_sig_95</th>\n",
       "      <th>color</th>\n",
       "    </tr>\n",
       "  </thead>\n",
       "  <tbody>\n",
       "    <tr>\n",
       "      <th>ABS_yes</th>\n",
       "      <td>ABS_yes</td>\n",
       "      <td>-0.373665</td>\n",
       "      <td>4.611657e-01</td>\n",
       "      <td>0.373665</td>\n",
       "      <td>False</td>\n",
       "      <td>red</td>\n",
       "    </tr>\n",
       "    <tr>\n",
       "      <th>cost_22m</th>\n",
       "      <td>cost_22m</td>\n",
       "      <td>-1.288462</td>\n",
       "      <td>5.498417e-02</td>\n",
       "      <td>1.288462</td>\n",
       "      <td>False</td>\n",
       "      <td>red</td>\n",
       "    </tr>\n",
       "    <tr>\n",
       "      <th>brand_kia</th>\n",
       "      <td>brand_kia</td>\n",
       "      <td>-1.288462</td>\n",
       "      <td>5.498417e-02</td>\n",
       "      <td>1.288462</td>\n",
       "      <td>False</td>\n",
       "      <td>red</td>\n",
       "    </tr>\n",
       "    <tr>\n",
       "      <th>safety_5_stars</th>\n",
       "      <td>safety_5_stars</td>\n",
       "      <td>-1.356303</td>\n",
       "      <td>9.547726e-03</td>\n",
       "      <td>1.356303</td>\n",
       "      <td>True</td>\n",
       "      <td>blue</td>\n",
       "    </tr>\n",
       "    <tr>\n",
       "      <th>cost_20m</th>\n",
       "      <td>cost_20m</td>\n",
       "      <td>1.614316</td>\n",
       "      <td>2.174771e-02</td>\n",
       "      <td>1.614316</td>\n",
       "      <td>True</td>\n",
       "      <td>blue</td>\n",
       "    </tr>\n",
       "    <tr>\n",
       "      <th>fuel_diesel</th>\n",
       "      <td>fuel_diesel</td>\n",
       "      <td>-1.623665</td>\n",
       "      <td>7.617165e-03</td>\n",
       "      <td>1.623665</td>\n",
       "      <td>True</td>\n",
       "      <td>blue</td>\n",
       "    </tr>\n",
       "    <tr>\n",
       "      <th>fuel_gas</th>\n",
       "      <td>fuel_gas</td>\n",
       "      <td>-2.505609</td>\n",
       "      <td>1.320688e-04</td>\n",
       "      <td>2.505609</td>\n",
       "      <td>True</td>\n",
       "      <td>blue</td>\n",
       "    </tr>\n",
       "    <tr>\n",
       "      <th>safety_4_stars</th>\n",
       "      <td>safety_4_stars</td>\n",
       "      <td>-2.772970</td>\n",
       "      <td>1.754321e-04</td>\n",
       "      <td>2.772970</td>\n",
       "      <td>True</td>\n",
       "      <td>blue</td>\n",
       "    </tr>\n",
       "    <tr>\n",
       "      <th>brand_hyundai</th>\n",
       "      <td>brand_hyundai</td>\n",
       "      <td>3.614316</td>\n",
       "      <td>1.190185e-04</td>\n",
       "      <td>3.614316</td>\n",
       "      <td>True</td>\n",
       "      <td>blue</td>\n",
       "    </tr>\n",
       "    <tr>\n",
       "      <th>ABS_no</th>\n",
       "      <td>ABS_no</td>\n",
       "      <td>-3.755609</td>\n",
       "      <td>4.164494e-06</td>\n",
       "      <td>3.755609</td>\n",
       "      <td>True</td>\n",
       "      <td>blue</td>\n",
       "    </tr>\n",
       "    <tr>\n",
       "      <th>cost_24m</th>\n",
       "      <td>cost_24m</td>\n",
       "      <td>-4.455128</td>\n",
       "      <td>2.038932e-05</td>\n",
       "      <td>4.455128</td>\n",
       "      <td>True</td>\n",
       "      <td>blue</td>\n",
       "    </tr>\n",
       "    <tr>\n",
       "      <th>brand_daewoo</th>\n",
       "      <td>brand_daewoo</td>\n",
       "      <td>-6.455128</td>\n",
       "      <td>7.289771e-07</td>\n",
       "      <td>6.455128</td>\n",
       "      <td>True</td>\n",
       "      <td>blue</td>\n",
       "    </tr>\n",
       "  </tbody>\n",
       "</table>\n",
       "</div>"
      ],
      "text/plain": [
       "                    param_name   param_w          pval  abs_param_w  \\\n",
       "ABS_yes                ABS_yes -0.373665  4.611657e-01     0.373665   \n",
       "cost_22m              cost_22m -1.288462  5.498417e-02     1.288462   \n",
       "brand_kia            brand_kia -1.288462  5.498417e-02     1.288462   \n",
       "safety_5_stars  safety_5_stars -1.356303  9.547726e-03     1.356303   \n",
       "cost_20m              cost_20m  1.614316  2.174771e-02     1.614316   \n",
       "fuel_diesel        fuel_diesel -1.623665  7.617165e-03     1.623665   \n",
       "fuel_gas              fuel_gas -2.505609  1.320688e-04     2.505609   \n",
       "safety_4_stars  safety_4_stars -2.772970  1.754321e-04     2.772970   \n",
       "brand_hyundai    brand_hyundai  3.614316  1.190185e-04     3.614316   \n",
       "ABS_no                  ABS_no -3.755609  4.164494e-06     3.755609   \n",
       "cost_24m              cost_24m -4.455128  2.038932e-05     4.455128   \n",
       "brand_daewoo      brand_daewoo -6.455128  7.289771e-07     6.455128   \n",
       "\n",
       "                is_sig_95 color  \n",
       "ABS_yes             False   red  \n",
       "cost_22m            False   red  \n",
       "brand_kia           False   red  \n",
       "safety_5_stars       True  blue  \n",
       "cost_20m             True  blue  \n",
       "fuel_diesel          True  blue  \n",
       "fuel_gas             True  blue  \n",
       "safety_4_stars       True  blue  \n",
       "brand_hyundai        True  blue  \n",
       "ABS_no               True  blue  \n",
       "cost_24m             True  blue  \n",
       "brand_daewoo         True  blue  "
      ]
     },
     "execution_count": 11,
     "metadata": {},
     "output_type": "execute_result"
    }
   ],
   "source": [
    "df_res.head(20)"
   ]
  },
  {
   "cell_type": "code",
   "execution_count": 12,
   "metadata": {},
   "outputs": [
    {
     "data": {
      "image/png": "[encoded data removed]",
      "text/plain": [
       "<Figure size 600x400 with 1 Axes>"
      ]
     },
     "metadata": {},
     "output_type": "display_data"
    }
   ],
   "source": [
    "import matplotlib.pyplot as plt\n",
    "\n",
    "f, ax = plt.subplots(figsize=(6, 4))\n",
    "\n",
    "plt.title('Part Worth')\n",
    "pwu = df_res['param_w']\n",
    "xbar = np.arange(len(pwu))\n",
    "\n",
    "plt.barh(xbar, pwu, color=df_res['color'])\n",
    "plt.yticks(xbar, labels=df_res['param_name'])\n",
    "plt.show()"
   ]
  },
  {
   "cell_type": "code",
   "execution_count": 13,
   "metadata": {},
   "outputs": [],
   "source": [
    "# 부분 가치(Part Worth) : \"brand_hyundai\" + \"cost_20m\"\n",
    "# Red : p-value > 0.05 항목"
   ]
  },
  {
   "cell_type": "markdown",
   "metadata": {},
   "source": [
    "#### 속성의 상대적 중요도 분석\n",
    "- 속성의 중요도는 최대 부분가치에서 최소 부분 가치의 범위로 정의된다.\n",
    "- 각 속성의 상대적 중요도는 해당 속성의 부분 가치의 범위를 각 속성의 부분 가치의 합으로 나눈 값이된다."
   ]
  },
  {
   "cell_type": "code",
   "execution_count": null,
   "metadata": {},
   "outputs": [],
   "source": [
    "range_per_feature = dict()\n",
    "\n",
    "for key, coeff in res.params.items():\n",
    "    sk = key.split('_')\n",
    "    feature = sk[0]\n",
    "    if len(sk) == 1:\n",
    "        feature = key\n",
    "\n",
    "    if feature not in range_per_feature:\n",
    "        range_per_feature[feature] = list()\n",
    "    \n",
    "    range_per_feature[feature].append(coeff)\n",
    "\n",
    "importance_per_feature = {k:max(v) - min(v) for k, v in range_per_feature.items()}\n",
    "total_feature_importance = sum(importance_per_feature.values())\n",
    "\n",
    "\n",
    "# 중요도 (importance)\n",
    "relative_importance_per_feature = {k: 100 * round(v/total_feature_importance, 3) for k, v in importance_per_feature.items()}"
   ]
  },
  {
   "cell_type": "code",
   "execution_count": 15,
   "metadata": {},
   "outputs": [
    {
     "data": {
      "text/plain": [
       "{'cost': 27.800000000000004,\n",
       " 'brand': 46.1,\n",
       " 'fuel': 4.0,\n",
       " 'ABS': 15.5,\n",
       " 'safety': 6.5}"
      ]
     },
     "execution_count": 15,
     "metadata": {},
     "output_type": "execute_result"
    }
   ],
   "source": [
    "relative_importance_per_feature"
   ]
  },
  {
   "cell_type": "code",
   "execution_count": null,
   "metadata": {},
   "outputs": [
    {
     "data": {
      "application/vnd.microsoft.datawrangler.viewer.v0+json": {
       "columns": [
        {
         "name": "index",
         "rawType": "int64",
         "type": "integer"
        },
        {
         "name": "attr",
         "rawType": "object",
         "type": "string"
        },
        {
         "name": "importance",
         "rawType": "float64",
         "type": "float"
        }
       ],
       "conversionMethod": "pd.DataFrame",
       "ref": "91bc5f72-e3c7-4f4f-8140-38f8980d97bf",
       "rows": [
        [
         "1",
         "brand",
         "10.069444444444446"
        ],
        [
         "0",
         "cost",
         "6.069444444444445"
        ],
        [
         "3",
         "ABS",
         "3.3819444444444344"
        ],
        [
         "4",
         "safety",
         "1.416666666666662"
        ],
        [
         "2",
         "fuel",
         "0.881944444444454"
        ]
       ],
       "shape": {
        "columns": 2,
        "rows": 5
       }
      },
      "text/html": [
       "<div>\n",
       "<style scoped>\n",
       "    .dataframe tbody tr th:only-of-type {\n",
       "        vertical-align: middle;\n",
       "    }\n",
       "\n",
       "    .dataframe tbody tr th {\n",
       "        vertical-align: top;\n",
       "    }\n",
       "\n",
       "    .dataframe thead th {\n",
       "        text-align: right;\n",
       "    }\n",
       "</style>\n",
       "<table border=\"1\" class=\"dataframe\">\n",
       "  <thead>\n",
       "    <tr style=\"text-align: right;\">\n",
       "      <th></th>\n",
       "      <th>attr</th>\n",
       "      <th>importance</th>\n",
       "    </tr>\n",
       "  </thead>\n",
       "  <tbody>\n",
       "    <tr>\n",
       "      <th>1</th>\n",
       "      <td>brand</td>\n",
       "      <td>10.069444</td>\n",
       "    </tr>\n",
       "    <tr>\n",
       "      <th>0</th>\n",
       "      <td>cost</td>\n",
       "      <td>6.069444</td>\n",
       "    </tr>\n",
       "    <tr>\n",
       "      <th>3</th>\n",
       "      <td>ABS</td>\n",
       "      <td>3.381944</td>\n",
       "    </tr>\n",
       "    <tr>\n",
       "      <th>4</th>\n",
       "      <td>safety</td>\n",
       "      <td>1.416667</td>\n",
       "    </tr>\n",
       "    <tr>\n",
       "      <th>2</th>\n",
       "      <td>fuel</td>\n",
       "      <td>0.881944</td>\n",
       "    </tr>\n",
       "  </tbody>\n",
       "</table>\n",
       "</div>"
      ],
      "text/plain": [
       "     attr  importance\n",
       "1   brand   10.069444\n",
       "0    cost    6.069444\n",
       "3     ABS    3.381944\n",
       "4  safety    1.416667\n",
       "2    fuel    0.881944"
      ]
     },
     "execution_count": 18,
     "metadata": {},
     "output_type": "execute_result"
    }
   ],
   "source": [
    "# 중요도 \n",
    "\n",
    "alt_data = pd.DataFrame(list(importance_per_feature.items()), columns=['attr', 'importance']).sort_values(by='importance', ascending=False)\n",
    "alt_data"
   ]
  },
  {
   "cell_type": "code",
   "execution_count": 48,
   "metadata": {},
   "outputs": [
    {
     "data": {
      "image/png": "[encoded data removed]",
      "text/plain": [
       "<Figure size 1000x600 with 1 Axes>"
      ]
     },
     "metadata": {},
     "output_type": "display_data"
    }
   ],
   "source": [
    "f, ax = plt.subplots(figsize=(10, 6))\n",
    "xbar = np.arange(len(alt_data['attr']))\n",
    "\n",
    "plt.title('Importance')\n",
    "plt.barh(xbar, alt_data['importance'])\n",
    "\n",
    "for i, v in enumerate(alt_data['importance']):\n",
    "    ax.text(v, i, '{:.2f}'.format(v))\n",
    "\n",
    "plt.xlabel('% importance')\n",
    "plt.ylabel('attributes')\n",
    "\n",
    "plt.yticks(xbar, alt_data['attr'])\n",
    "\n",
    "plt.show()"
   ]
  },
  {
   "cell_type": "code",
   "execution_count": 45,
   "metadata": {},
   "outputs": [
    {
     "data": {
      "application/vnd.microsoft.datawrangler.viewer.v0+json": {
       "columns": [
        {
         "name": "index",
         "rawType": "int64",
         "type": "integer"
        },
        {
         "name": "attr",
         "rawType": "object",
         "type": "string"
        },
        {
         "name": "relative_importance_pct",
         "rawType": "float64",
         "type": "float"
        }
       ],
       "conversionMethod": "pd.DataFrame",
       "ref": "6a0b6486-64fa-478a-9675-7931ec457a62",
       "rows": [
        [
         "1",
         "brand",
         "46.1"
        ],
        [
         "0",
         "cost",
         "27.800000000000004"
        ],
        [
         "3",
         "ABS",
         "15.5"
        ],
        [
         "4",
         "safety",
         "6.5"
        ],
        [
         "2",
         "fuel",
         "4.0"
        ]
       ],
       "shape": {
        "columns": 2,
        "rows": 5
       }
      },
      "text/html": [
       "<div>\n",
       "<style scoped>\n",
       "    .dataframe tbody tr th:only-of-type {\n",
       "        vertical-align: middle;\n",
       "    }\n",
       "\n",
       "    .dataframe tbody tr th {\n",
       "        vertical-align: top;\n",
       "    }\n",
       "\n",
       "    .dataframe thead th {\n",
       "        text-align: right;\n",
       "    }\n",
       "</style>\n",
       "<table border=\"1\" class=\"dataframe\">\n",
       "  <thead>\n",
       "    <tr style=\"text-align: right;\">\n",
       "      <th></th>\n",
       "      <th>attr</th>\n",
       "      <th>relative_importance_pct</th>\n",
       "    </tr>\n",
       "  </thead>\n",
       "  <tbody>\n",
       "    <tr>\n",
       "      <th>1</th>\n",
       "      <td>brand</td>\n",
       "      <td>46.1</td>\n",
       "    </tr>\n",
       "    <tr>\n",
       "      <th>0</th>\n",
       "      <td>cost</td>\n",
       "      <td>27.8</td>\n",
       "    </tr>\n",
       "    <tr>\n",
       "      <th>3</th>\n",
       "      <td>ABS</td>\n",
       "      <td>15.5</td>\n",
       "    </tr>\n",
       "    <tr>\n",
       "      <th>4</th>\n",
       "      <td>safety</td>\n",
       "      <td>6.5</td>\n",
       "    </tr>\n",
       "    <tr>\n",
       "      <th>2</th>\n",
       "      <td>fuel</td>\n",
       "      <td>4.0</td>\n",
       "    </tr>\n",
       "  </tbody>\n",
       "</table>\n",
       "</div>"
      ],
      "text/plain": [
       "     attr  relative_importance_pct\n",
       "1   brand                     46.1\n",
       "0    cost                     27.8\n",
       "3     ABS                     15.5\n",
       "4  safety                      6.5\n",
       "2    fuel                      4.0"
      ]
     },
     "execution_count": 45,
     "metadata": {},
     "output_type": "execute_result"
    }
   ],
   "source": [
    "# 상대적 중요도(relative importance)\n",
    "\n",
    "alt_data_rel = pd.DataFrame(list(relative_importance_per_feature.items()), columns=['attr', 'relative_importance_pct']).sort_values(by='relative_importance_pct', ascending=False)\n",
    "alt_data_rel.head(5)\n"
   ]
  },
  {
   "cell_type": "code",
   "execution_count": 49,
   "metadata": {},
   "outputs": [
    {
     "data": {
      "image/png": "[encoded data removed]",
      "text/plain": [
       "<Figure size 1000x600 with 1 Axes>"
      ]
     },
     "metadata": {},
     "output_type": "display_data"
    }
   ],
   "source": [
    "f, ax = plt.subplots(figsize=(10, 6))\n",
    "xbar = np.arange(len(alt_data_rel['attr']))\n",
    "\n",
    "plt.title('Relative importance / Normalized importance')\n",
    "plt.barh(xbar, alt_data_rel['relative_importance_pct'])\n",
    "\n",
    "for i, v in enumerate(alt_data_rel['relative_importance_pct']):\n",
    "    ax.text(v, i, '{:.2f}'.format(v))\n",
    "\n",
    "plt.xlabel('% importance')\n",
    "plt.ylabel('attributes')\n",
    "\n",
    "plt.yticks(xbar, alt_data['attr'])\n",
    "\n",
    "plt.show()"
   ]
  },
  {
   "cell_type": "markdown",
   "metadata": {},
   "source": [
    "#### 상대적 중요도 (Relative importance)\n",
    "- 브랜드의 상대적 중요도 : 46.1%\n",
    "- 가격의 상대적 중요도 : 27.8%\n",
    "- ABS의 상대적 중요도 : 15.5%\n",
    "- 안전도의 상대적 중요도 : 6.5%\n",
    "- 연료 종류의 상대적 중요도 : 4%"
   ]
  },
  {
   "cell_type": "markdown",
   "metadata": {},
   "source": [
    "#### 특성성의 조합으로 구성된 제품의 예\n",
    "- 다나와 등의 사이트에서 특정 제품군의 특성 조합을 테이블로 저장하고 컨조인트 분석 결과를 확인해 볼 것(250316)\n",
    "- 특성의 조합으로 구성된 제품군의 예 : 노트북, 로봇 청소기, 선풍기 등\n",
    "- 정량, 선형적 특성이 아닌 기능 유/무 또는 정량적인 경우 단계별(2~3단계) 특성으로 설정 가능한 값만 가능"
   ]
  },
  {
   "cell_type": "markdown",
   "metadata": {},
   "source": [
    "#### 마케팅 전략\n",
    "- 시장 A : 브랜드, ABS, ...\n",
    "- 시장 B : 브랜드, 연료, ...\n",
    "- 속성의 상대적 중요도가 다르게 나오는 2개 이상의 시장(각 시장에서 조사한 설문을 바탕으로)\n",
    "- 세분 시장에 이미 존재하는 제품(각각의 특성을 갖춘)에 대한 효용 추정 또는 신제품의 특성을 제안할 수 있다.\n",
    "- 각 세부 시장에서 마케터는 기 존재하는 제품을 선택하여 가장 비용이 적게 들면서 상대적으로 효용을 큰 폭으로 증가시키는 대안을 선택하면 된다."
   ]
  },
  {
   "cell_type": "markdown",
   "metadata": {},
   "source": [
    "#### 추가로 읽어볼 논문\n",
    "- \"컨조인트 분석을 이용한 싱글 남성의 도시락 선택 속성에 대한 연구(2021, 전북대)"
   ]
  },
  {
   "cell_type": "markdown",
   "metadata": {},
   "source": []
  }
 ],
 "metadata": {
  "kernelspec": {
   "display_name": "base",
   "language": "python",
   "name": "base"
  },
  "language_info": {
   "codemirror_mode": {
    "name": "ipython",
    "version": 3
   },
   "file_extension": ".py",
   "mimetype": "text/x-python",
   "name": "python",
   "nbconvert_exporter": "python",
   "pygments_lexer": "ipython3",
   "version": "3.11.7"
  }
 },
 "nbformat": 4,
 "nbformat_minor": 2
}
